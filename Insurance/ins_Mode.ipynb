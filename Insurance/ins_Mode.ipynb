{
 "cells": [
  {
   "cell_type": "code",
   "id": "initial_id",
   "metadata": {
    "collapsed": true,
    "ExecuteTime": {
     "end_time": "2025-02-13T03:33:19.235391Z",
     "start_time": "2025-02-13T03:33:19.209211Z"
    }
   },
   "source": [
    "import pandas as pd\n",
    "import matplotlib.pyplot as plt \n",
    "import seaborn as sns\n",
    "import missingno as msno\n",
    "import numpy as np\n",
    "\n",
    "plt.style.use(\"fivethirtyeight\")\n",
    "%matplotlib inline"
   ],
   "outputs": [],
   "execution_count": 1
  },
  {
   "metadata": {
    "ExecuteTime": {
     "end_time": "2025-02-13T03:34:24.982030Z",
     "start_time": "2025-02-13T03:34:24.973943Z"
    }
   },
   "cell_type": "code",
   "source": [
    "from prompt_toolkit import HTML\n",
    "\n",
    "\n",
    "def jupyter_settings():\n",
    "    %matplotlib inline\n",
    "    %pylab inline\n",
    "    \n",
    "    sns.set(font_scale=1.6)\n",
    "    \n",
    "    plt.style.use(\"fivethirtyeight\")\n",
    "    # sns.set(style='whitegrid')\n",
    "    # plt.style.use('seaborn-darkgrid')\n",
    "    plt.rcParams['figure.figsize'] = [25, 12]\n",
    "    plt.rcParams['font.size'] = 16\n",
    "    \n",
    "    display( HTML('<style>.container {width:100% !important; }</style>'))\n",
    "    pd.options.display.max_columns = None\n",
    "    pd.options.display.max_rows = None\n",
    "    pd.set_option('display.expand_frame_repr', False)\n",
    "    \n",
    "jupyter_settings()"
   ],
   "id": "21fcd584d93558e",
   "outputs": [
    {
     "name": "stdout",
     "output_type": "stream",
     "text": [
      "%pylab is deprecated, use %matplotlib inline and import the required libraries.\n",
      "Populating the interactive namespace from numpy and matplotlib\n"
     ]
    },
    {
     "data": {
      "text/plain": [
       "HTML('<style>.container {width:100% !important; }</style>')"
      ]
     },
     "metadata": {},
     "output_type": "display_data"
    }
   ],
   "execution_count": 4
  },
  {
   "metadata": {
    "ExecuteTime": {
     "end_time": "2025-02-13T03:34:56.372658Z",
     "start_time": "2025-02-13T03:34:56.104250Z"
    }
   },
   "cell_type": "code",
   "source": [
    "train = pd.read_csv('train.csv')\n",
    "train.head()"
   ],
   "id": "bfd3550260dbd0e2",
   "outputs": [
    {
     "data": {
      "text/plain": [
       "   id  Gender  Age  Driving_License  Region_Code  Previously_Insured Vehicle_Age Vehicle_Damage  Annual_Premium  Policy_Sales_Channel  Vintage  Response\n",
       "0   1    Male   44                1         28.0                   0   > 2 Years            Yes         40454.0                  26.0      217         1\n",
       "1   2    Male   76                1          3.0                   0    1-2 Year             No         33536.0                  26.0      183         0\n",
       "2   3    Male   47                1         28.0                   0   > 2 Years            Yes         38294.0                  26.0       27         1\n",
       "3   4    Male   21                1         11.0                   1    < 1 Year             No         28619.0                 152.0      203         0\n",
       "4   5  Female   29                1         41.0                   1    < 1 Year             No         27496.0                 152.0       39         0"
      ],
      "text/html": [
       "<div>\n",
       "<style scoped>\n",
       "    .dataframe tbody tr th:only-of-type {\n",
       "        vertical-align: middle;\n",
       "    }\n",
       "\n",
       "    .dataframe tbody tr th {\n",
       "        vertical-align: top;\n",
       "    }\n",
       "\n",
       "    .dataframe thead th {\n",
       "        text-align: right;\n",
       "    }\n",
       "</style>\n",
       "<table border=\"1\" class=\"dataframe\">\n",
       "  <thead>\n",
       "    <tr style=\"text-align: right;\">\n",
       "      <th></th>\n",
       "      <th>id</th>\n",
       "      <th>Gender</th>\n",
       "      <th>Age</th>\n",
       "      <th>Driving_License</th>\n",
       "      <th>Region_Code</th>\n",
       "      <th>Previously_Insured</th>\n",
       "      <th>Vehicle_Age</th>\n",
       "      <th>Vehicle_Damage</th>\n",
       "      <th>Annual_Premium</th>\n",
       "      <th>Policy_Sales_Channel</th>\n",
       "      <th>Vintage</th>\n",
       "      <th>Response</th>\n",
       "    </tr>\n",
       "  </thead>\n",
       "  <tbody>\n",
       "    <tr>\n",
       "      <th>0</th>\n",
       "      <td>1</td>\n",
       "      <td>Male</td>\n",
       "      <td>44</td>\n",
       "      <td>1</td>\n",
       "      <td>28.0</td>\n",
       "      <td>0</td>\n",
       "      <td>&gt; 2 Years</td>\n",
       "      <td>Yes</td>\n",
       "      <td>40454.0</td>\n",
       "      <td>26.0</td>\n",
       "      <td>217</td>\n",
       "      <td>1</td>\n",
       "    </tr>\n",
       "    <tr>\n",
       "      <th>1</th>\n",
       "      <td>2</td>\n",
       "      <td>Male</td>\n",
       "      <td>76</td>\n",
       "      <td>1</td>\n",
       "      <td>3.0</td>\n",
       "      <td>0</td>\n",
       "      <td>1-2 Year</td>\n",
       "      <td>No</td>\n",
       "      <td>33536.0</td>\n",
       "      <td>26.0</td>\n",
       "      <td>183</td>\n",
       "      <td>0</td>\n",
       "    </tr>\n",
       "    <tr>\n",
       "      <th>2</th>\n",
       "      <td>3</td>\n",
       "      <td>Male</td>\n",
       "      <td>47</td>\n",
       "      <td>1</td>\n",
       "      <td>28.0</td>\n",
       "      <td>0</td>\n",
       "      <td>&gt; 2 Years</td>\n",
       "      <td>Yes</td>\n",
       "      <td>38294.0</td>\n",
       "      <td>26.0</td>\n",
       "      <td>27</td>\n",
       "      <td>1</td>\n",
       "    </tr>\n",
       "    <tr>\n",
       "      <th>3</th>\n",
       "      <td>4</td>\n",
       "      <td>Male</td>\n",
       "      <td>21</td>\n",
       "      <td>1</td>\n",
       "      <td>11.0</td>\n",
       "      <td>1</td>\n",
       "      <td>&lt; 1 Year</td>\n",
       "      <td>No</td>\n",
       "      <td>28619.0</td>\n",
       "      <td>152.0</td>\n",
       "      <td>203</td>\n",
       "      <td>0</td>\n",
       "    </tr>\n",
       "    <tr>\n",
       "      <th>4</th>\n",
       "      <td>5</td>\n",
       "      <td>Female</td>\n",
       "      <td>29</td>\n",
       "      <td>1</td>\n",
       "      <td>41.0</td>\n",
       "      <td>1</td>\n",
       "      <td>&lt; 1 Year</td>\n",
       "      <td>No</td>\n",
       "      <td>27496.0</td>\n",
       "      <td>152.0</td>\n",
       "      <td>39</td>\n",
       "      <td>0</td>\n",
       "    </tr>\n",
       "  </tbody>\n",
       "</table>\n",
       "</div>"
      ]
     },
     "execution_count": 5,
     "metadata": {},
     "output_type": "execute_result"
    }
   ],
   "execution_count": 5
  },
  {
   "metadata": {
    "ExecuteTime": {
     "end_time": "2025-02-13T03:35:26.412441Z",
     "start_time": "2025-02-13T03:35:26.407601Z"
    }
   },
   "cell_type": "code",
   "source": "train.shape",
   "id": "175bde91dc05408f",
   "outputs": [
    {
     "data": {
      "text/plain": [
       "(381109, 12)"
      ]
     },
     "execution_count": 6,
     "metadata": {},
     "output_type": "execute_result"
    }
   ],
   "execution_count": 6
  },
  {
   "metadata": {
    "ExecuteTime": {
     "end_time": "2025-02-13T03:35:56.166798Z",
     "start_time": "2025-02-13T03:35:55.545430Z"
    }
   },
   "cell_type": "code",
   "source": [
    "plt.figure(figsize=(8,6))\n",
    "\n",
    "sns.countplot(x=\"Response\", data = train, palette =\"husl\" ,edgecolor=\"black\")\n",
    "plt.ylabel('count', fontsize=15)\n",
    "plt.xlabel('gender', fontsize=15)\n",
    "plt.title('Balance of the output variable', fontsize=16)\n",
    "plt.show()"
   ],
   "id": "e7221787e2132932",
   "outputs": [
    {
     "name": "stderr",
     "output_type": "stream",
     "text": [
      "C:\\Users\\86131\\AppData\\Local\\Temp\\ipykernel_9788\\3050110839.py:3: FutureWarning: \n",
      "\n",
      "Passing `palette` without assigning `hue` is deprecated and will be removed in v0.14.0. Assign the `x` variable to `hue` and set `legend=False` for the same effect.\n",
      "\n",
      "  sns.countplot(x=\"Response\", data = train, palette =\"husl\" ,edgecolor=\"black\")\n"
     ]
    },
    {
     "data": {
      "text/plain": [
       "<Figure size 800x600 with 1 Axes>"
      ],
      "image/png": "[encoded data removed]"
     },
     "metadata": {},
     "output_type": "display_data"
    }
   ],
   "execution_count": 7
  },
  {
   "metadata": {
    "ExecuteTime": {
     "end_time": "2025-02-13T03:36:25.280024Z",
     "start_time": "2025-02-13T03:36:25.205534Z"
    }
   },
   "cell_type": "code",
   "source": "train['age_range'] = train['Age'].apply(lambda x: 'Adult 1' if 20<x<30 else('Adult 2' if 30 < x < 40 else('Adult 3' if 40<x<65 else 'Elderly')))",
   "id": "9326173c588684ef",
   "outputs": [],
   "execution_count": 8
  },
  {
   "metadata": {
    "ExecuteTime": {
     "end_time": "2025-02-13T03:36:55.192780Z",
     "start_time": "2025-02-13T03:36:55.184729Z"
    }
   },
   "cell_type": "code",
   "source": "train['monthly_premium'] = round(train['Annual_Premium']/12, 2)",
   "id": "2894d12b7e210709",
   "outputs": [],
   "execution_count": 9
  },
  {
   "metadata": {
    "ExecuteTime": {
     "end_time": "2025-02-13T03:37:30.768411Z",
     "start_time": "2025-02-13T03:37:30.761787Z"
    }
   },
   "cell_type": "code",
   "source": "train['percentage_total_premium'] = train['Annual_Premium']/train['Annual_Premium'].sum()",
   "id": "55cf34c4d7d42a88",
   "outputs": [],
   "execution_count": 10
  },
  {
   "metadata": {
    "ExecuteTime": {
     "end_time": "2025-02-13T03:38:10.318260Z",
     "start_time": "2025-02-13T03:38:10.296546Z"
    }
   },
   "cell_type": "code",
   "source": "df = pd.get_dummies(train['Vehicle_Damage'], prefix='Vehicle_Damage').rename(columns={'vehicle_damage_0':'vehicle_damage_no', 'vehicle_damage_1':'vehicle_damage_yes'})",
   "id": "4beb93803cc8698e",
   "outputs": [],
   "execution_count": 11
  },
  {
   "metadata": {
    "ExecuteTime": {
     "end_time": "2025-02-13T03:38:53.222122Z",
     "start_time": "2025-02-13T03:38:53.185934Z"
    }
   },
   "cell_type": "code",
   "source": "train  = pd.concat([train, df], axis=1)",
   "id": "8436e2f8348936d4",
   "outputs": [],
   "execution_count": 12
  },
  {
   "metadata": {
    "ExecuteTime": {
     "end_time": "2025-02-13T03:39:38.584534Z",
     "start_time": "2025-02-13T03:39:38.577824Z"
    }
   },
   "cell_type": "code",
   "source": "train['insured_with_no_damage'] = train['Previously_Insured']*train['Vehicle_Damage_No']",
   "id": "ff77deb51c4a1bad",
   "outputs": [],
   "execution_count": 13
  },
  {
   "metadata": {
    "ExecuteTime": {
     "end_time": "2025-02-13T03:40:24.541539Z",
     "start_time": "2025-02-13T03:40:24.428513Z"
    }
   },
   "cell_type": "code",
   "source": "train[\"not_insured_with_damage\"] = train[\"Previously_Insured\"].apply(lambda x: 1 if x == 0 else 0) * train[\"Vehicle_Damage_Yes\"]",
   "id": "14db43dbab4c284",
   "outputs": [],
   "execution_count": 14
  },
  {
   "metadata": {
    "ExecuteTime": {
     "end_time": "2025-02-13T03:41:11.058641Z",
     "start_time": "2025-02-13T03:41:10.949456Z"
    }
   },
   "cell_type": "code",
   "source": "train[\"vehicle_age_<_1_year\"] = train[\"Vehicle_Age\"].apply(lambda x: 1 if x=='< 1 Year' else 0)",
   "id": "d5294e5d21fee814",
   "outputs": [],
   "execution_count": 15
  },
  {
   "metadata": {
    "ExecuteTime": {
     "end_time": "2025-02-13T03:41:57.953881Z",
     "start_time": "2025-02-13T03:41:57.947296Z"
    }
   },
   "cell_type": "code",
   "source": "train[\"new_damage_no_insurance\"] = train[\"vehicle_age_<_1_year\"]*train[\"not_insured_with_damage\"]",
   "id": "b391711e016325d8",
   "outputs": [],
   "execution_count": 16
  },
  {
   "metadata": {
    "ExecuteTime": {
     "end_time": "2025-02-13T03:42:45.715689Z",
     "start_time": "2025-02-13T03:42:45.703710Z"
    }
   },
   "cell_type": "code",
   "source": "train.head()",
   "id": "3510ec011e54c9b3",
   "outputs": [
    {
     "data": {
      "text/plain": [
       "   id  Gender  Age  Driving_License  Region_Code  Previously_Insured Vehicle_Age Vehicle_Damage  Annual_Premium  Policy_Sales_Channel  Vintage  Response age_range  monthly_premium  percentage_total_premium  Vehicle_Damage_No  Vehicle_Damage_Yes  insured_with_no_damage  not_insured_with_damage  vehicle_age_<_1_year  new_damage_no_insurance\n",
       "0   1    Male   44                1         28.0                   0   > 2 Years            Yes         40454.0                  26.0      217         1   Adult 3          3371.17                  0.000003              False                True                       0                        1                     0                        0\n",
       "1   2    Male   76                1          3.0                   0    1-2 Year             No         33536.0                  26.0      183         0   Elderly          2794.67                  0.000003               True               False                       0                        0                     0                        0\n",
       "2   3    Male   47                1         28.0                   0   > 2 Years            Yes         38294.0                  26.0       27         1   Adult 3          3191.17                  0.000003              False                True                       0                        1                     0                        0\n",
       "3   4    Male   21                1         11.0                   1    < 1 Year             No         28619.0                 152.0      203         0   Adult 1          2384.92                  0.000002               True               False                       1                        0                     1                        0\n",
       "4   5  Female   29                1         41.0                   1    < 1 Year             No         27496.0                 152.0       39         0   Adult 1          2291.33                  0.000002               True               False                       1                        0                     1                        0"
      ],
      "text/html": [
       "<div>\n",
       "<style scoped>\n",
       "    .dataframe tbody tr th:only-of-type {\n",
       "        vertical-align: middle;\n",
       "    }\n",
       "\n",
       "    .dataframe tbody tr th {\n",
       "        vertical-align: top;\n",
       "    }\n",
       "\n",
       "    .dataframe thead th {\n",
       "        text-align: right;\n",
       "    }\n",
       "</style>\n",
       "<table border=\"1\" class=\"dataframe\">\n",
       "  <thead>\n",
       "    <tr style=\"text-align: right;\">\n",
       "      <th></th>\n",
       "      <th>id</th>\n",
       "      <th>Gender</th>\n",
       "      <th>Age</th>\n",
       "      <th>Driving_License</th>\n",
       "      <th>Region_Code</th>\n",
       "      <th>Previously_Insured</th>\n",
       "      <th>Vehicle_Age</th>\n",
       "      <th>Vehicle_Damage</th>\n",
       "      <th>Annual_Premium</th>\n",
       "      <th>Policy_Sales_Channel</th>\n",
       "      <th>Vintage</th>\n",
       "      <th>Response</th>\n",
       "      <th>age_range</th>\n",
       "      <th>monthly_premium</th>\n",
       "      <th>percentage_total_premium</th>\n",
       "      <th>Vehicle_Damage_No</th>\n",
       "      <th>Vehicle_Damage_Yes</th>\n",
       "      <th>insured_with_no_damage</th>\n",
       "      <th>not_insured_with_damage</th>\n",
       "      <th>vehicle_age_&lt;_1_year</th>\n",
       "      <th>new_damage_no_insurance</th>\n",
       "    </tr>\n",
       "  </thead>\n",
       "  <tbody>\n",
       "    <tr>\n",
       "      <th>0</th>\n",
       "      <td>1</td>\n",
       "      <td>Male</td>\n",
       "      <td>44</td>\n",
       "      <td>1</td>\n",
       "      <td>28.0</td>\n",
       "      <td>0</td>\n",
       "      <td>&gt; 2 Years</td>\n",
       "      <td>Yes</td>\n",
       "      <td>40454.0</td>\n",
       "      <td>26.0</td>\n",
       "      <td>217</td>\n",
       "      <td>1</td>\n",
       "      <td>Adult 3</td>\n",
       "      <td>3371.17</td>\n",
       "      <td>0.000003</td>\n",
       "      <td>False</td>\n",
       "      <td>True</td>\n",
       "      <td>0</td>\n",
       "      <td>1</td>\n",
       "      <td>0</td>\n",
       "      <td>0</td>\n",
       "    </tr>\n",
       "    <tr>\n",
       "      <th>1</th>\n",
       "      <td>2</td>\n",
       "      <td>Male</td>\n",
       "      <td>76</td>\n",
       "      <td>1</td>\n",
       "      <td>3.0</td>\n",
       "      <td>0</td>\n",
       "      <td>1-2 Year</td>\n",
       "      <td>No</td>\n",
       "      <td>33536.0</td>\n",
       "      <td>26.0</td>\n",
       "      <td>183</td>\n",
       "      <td>0</td>\n",
       "      <td>Elderly</td>\n",
       "      <td>2794.67</td>\n",
       "      <td>0.000003</td>\n",
       "      <td>True</td>\n",
       "      <td>False</td>\n",
       "      <td>0</td>\n",
       "      <td>0</td>\n",
       "      <td>0</td>\n",
       "      <td>0</td>\n",
       "    </tr>\n",
       "    <tr>\n",
       "      <th>2</th>\n",
       "      <td>3</td>\n",
       "      <td>Male</td>\n",
       "      <td>47</td>\n",
       "      <td>1</td>\n",
       "      <td>28.0</td>\n",
       "      <td>0</td>\n",
       "      <td>&gt; 2 Years</td>\n",
       "      <td>Yes</td>\n",
       "      <td>38294.0</td>\n",
       "      <td>26.0</td>\n",
       "      <td>27</td>\n",
       "      <td>1</td>\n",
       "      <td>Adult 3</td>\n",
       "      <td>3191.17</td>\n",
       "      <td>0.000003</td>\n",
       "      <td>False</td>\n",
       "      <td>True</td>\n",
       "      <td>0</td>\n",
       "      <td>1</td>\n",
       "      <td>0</td>\n",
       "      <td>0</td>\n",
       "    </tr>\n",
       "    <tr>\n",
       "      <th>3</th>\n",
       "      <td>4</td>\n",
       "      <td>Male</td>\n",
       "      <td>21</td>\n",
       "      <td>1</td>\n",
       "      <td>11.0</td>\n",
       "      <td>1</td>\n",
       "      <td>&lt; 1 Year</td>\n",
       "      <td>No</td>\n",
       "      <td>28619.0</td>\n",
       "      <td>152.0</td>\n",
       "      <td>203</td>\n",
       "      <td>0</td>\n",
       "      <td>Adult 1</td>\n",
       "      <td>2384.92</td>\n",
       "      <td>0.000002</td>\n",
       "      <td>True</td>\n",
       "      <td>False</td>\n",
       "      <td>1</td>\n",
       "      <td>0</td>\n",
       "      <td>1</td>\n",
       "      <td>0</td>\n",
       "    </tr>\n",
       "    <tr>\n",
       "      <th>4</th>\n",
       "      <td>5</td>\n",
       "      <td>Female</td>\n",
       "      <td>29</td>\n",
       "      <td>1</td>\n",
       "      <td>41.0</td>\n",
       "      <td>1</td>\n",
       "      <td>&lt; 1 Year</td>\n",
       "      <td>No</td>\n",
       "      <td>27496.0</td>\n",
       "      <td>152.0</td>\n",
       "      <td>39</td>\n",
       "      <td>0</td>\n",
       "      <td>Adult 1</td>\n",
       "      <td>2291.33</td>\n",
       "      <td>0.000002</td>\n",
       "      <td>True</td>\n",
       "      <td>False</td>\n",
       "      <td>1</td>\n",
       "      <td>0</td>\n",
       "      <td>1</td>\n",
       "      <td>0</td>\n",
       "    </tr>\n",
       "  </tbody>\n",
       "</table>\n",
       "</div>"
      ]
     },
     "execution_count": 17,
     "metadata": {},
     "output_type": "execute_result"
    }
   ],
   "execution_count": 17
  },
  {
   "metadata": {
    "ExecuteTime": {
     "end_time": "2025-02-13T03:43:34.461222Z",
     "start_time": "2025-02-13T03:43:34.451719Z"
    }
   },
   "cell_type": "code",
   "source": "categorical_features = train.select_dtypes(exclude=[np.number])",
   "id": "4ed0c521d6211bce",
   "outputs": [],
   "execution_count": 18
  },
  {
   "metadata": {
    "ExecuteTime": {
     "end_time": "2025-02-13T03:44:29.844257Z",
     "start_time": "2025-02-13T03:44:29.645440Z"
    }
   },
   "cell_type": "code",
   "source": [
    "from sklearn.model_selection import train_test_split\n",
    "from sklearn.preprocessing import LabelEncoder"
   ],
   "id": "3daceaad327741ed",
   "outputs": [],
   "execution_count": 19
  },
  {
   "metadata": {
    "ExecuteTime": {
     "end_time": "2025-02-13T03:44:29.849306Z",
     "start_time": "2025-02-13T03:44:29.845259Z"
    }
   },
   "cell_type": "code",
   "source": "le = LabelEncoder()",
   "id": "35295afe1dc9b52a",
   "outputs": [],
   "execution_count": 20
  },
  {
   "metadata": {
    "ExecuteTime": {
     "end_time": "2025-02-13T03:45:24.911330Z",
     "start_time": "2025-02-13T03:45:24.723333Z"
    }
   },
   "cell_type": "code",
   "source": [
    "train['Gender'] = le.fit_transform(train['Gender'])\n",
    "train['Vehicle_Age'] = le.fit_transform(train['Vehicle_Age'])\n",
    "train['Vehicle_Damage'] = le.fit_transform(train['Vehicle_Damage'])\n",
    "train['age_range'] = le.fit_transform(train['age_range'])"
   ],
   "id": "766ace0f609c83e5",
   "outputs": [],
   "execution_count": 21
  },
  {
   "metadata": {
    "ExecuteTime": {
     "end_time": "2025-02-13T03:46:18.760915Z",
     "start_time": "2025-02-13T03:46:18.714562Z"
    }
   },
   "cell_type": "code",
   "source": [
    "y = train['Response'].copy()\n",
    "X = train.drop('Response', axis=1).copy()"
   ],
   "id": "d81864bfb53ad1e6",
   "outputs": [],
   "execution_count": 22
  },
  {
   "metadata": {
    "ExecuteTime": {
     "end_time": "2025-02-13T03:47:54.465314Z",
     "start_time": "2025-02-13T03:47:54.461886Z"
    }
   },
   "cell_type": "code",
   "source": "from imblearn.over_sampling import ADASYN",
   "id": "f05ced68ad2d26d1",
   "outputs": [],
   "execution_count": 24
  },
  {
   "metadata": {
    "ExecuteTime": {
     "end_time": "2025-02-13T03:49:29.519531Z",
     "start_time": "2025-02-13T03:49:29.516118Z"
    }
   },
   "cell_type": "code",
   "source": "adasyn = ADASYN()",
   "id": "b5a8a7c3baa8a565",
   "outputs": [],
   "execution_count": 25
  },
  {
   "metadata": {
    "ExecuteTime": {
     "end_time": "2025-02-13T03:49:50.396300Z",
     "start_time": "2025-02-13T03:49:29.520529Z"
    }
   },
   "cell_type": "code",
   "source": "X_adasyn, y_adasyn = adasyn.fit_resample(X,y)",
   "id": "2768314b31511867",
   "outputs": [],
   "execution_count": 26
  },
  {
   "metadata": {
    "ExecuteTime": {
     "end_time": "2025-02-13T03:49:50.401982Z",
     "start_time": "2025-02-13T03:49:50.397298Z"
    }
   },
   "cell_type": "code",
   "source": [
    "print('The number of lines before oversampling : {}'.format(X.shape[0]))\n",
    "print('The number of lines after oversampling : {}'.format(X_adasyn.shape[0]))"
   ],
   "id": "32c6246324355899",
   "outputs": [
    {
     "name": "stdout",
     "output_type": "stream",
     "text": [
      "The number of lines before oversampling : 381109\n",
      "The number of lines after oversampling : 673035\n"
     ]
    }
   ],
   "execution_count": 27
  },
  {
   "metadata": {
    "ExecuteTime": {
     "end_time": "2025-02-13T03:49:50.407275Z",
     "start_time": "2025-02-13T03:49:50.402978Z"
    }
   },
   "cell_type": "code",
   "source": "import matplotlib.pyplot as plt",
   "id": "3e0f2b5dcc6ab45d",
   "outputs": [],
   "execution_count": 28
  },
  {
   "metadata": {
    "ExecuteTime": {
     "end_time": "2025-02-13T03:49:51.375337Z",
     "start_time": "2025-02-13T03:49:50.408259Z"
    }
   },
   "cell_type": "code",
   "source": [
    "print(\"Now the training data is shorter but the classes are balanced\")\n",
    "\n",
    "# sets the plot size\n",
    "plt.figure(figsize=(8,6))\n",
    "\n",
    "# counts each class for the target var\n",
    "ax = sns.countplot(x=y_adasyn, palette =\"husl\", edgecolor=\"black\")\n",
    "\n",
    "# sets plot features\n",
    "plt.title(\"Balancing of the output variable\")\n",
    "plt.xlabel(\"Response\")\n",
    "plt.ylabel(\"Count\")\n",
    "plt.xticks(ticks=[0,1], labels=['No','Yes'])\n",
    "\n",
    "# displays the plot\n",
    "plt.show()"
   ],
   "id": "a4da29e4086b7fad",
   "outputs": [
    {
     "name": "stdout",
     "output_type": "stream",
     "text": [
      "Now the training data is shorter but the classes are balanced\n"
     ]
    },
    {
     "name": "stderr",
     "output_type": "stream",
     "text": [
      "C:\\Users\\86131\\AppData\\Local\\Temp\\ipykernel_9788\\1334236425.py:7: FutureWarning: \n",
      "\n",
      "Passing `palette` without assigning `hue` is deprecated and will be removed in v0.14.0. Assign the `x` variable to `hue` and set `legend=False` for the same effect.\n",
      "\n",
      "  ax = sns.countplot(x=y_adasyn, palette =\"husl\", edgecolor=\"black\")\n"
     ]
    },
    {
     "data": {
      "text/plain": [
       "<Figure size 800x600 with 1 Axes>"
      ],
      "image/png": "[encoded data removed]"
     },
     "metadata": {},
     "output_type": "display_data"
    }
   ],
   "execution_count": 29
  },
  {
   "metadata": {
    "ExecuteTime": {
     "end_time": "2025-02-13T03:49:51.631936Z",
     "start_time": "2025-02-13T03:49:51.376339Z"
    }
   },
   "cell_type": "code",
   "source": "x_train, x_val, y_train, y_val = train_test_split(X_adasyn, y_adasyn, test_size=0.3, random_state=72)",
   "id": "d6a566d889c7b2ea",
   "outputs": [],
   "execution_count": 30
  },
  {
   "metadata": {
    "ExecuteTime": {
     "end_time": "2025-02-13T03:52:52.055114Z",
     "start_time": "2025-02-13T03:52:52.051581Z"
    }
   },
   "cell_type": "code",
   "source": "from sklearn.ensemble import RandomForestClassifier",
   "id": "44189d7a607b62fb",
   "outputs": [],
   "execution_count": 31
  },
  {
   "metadata": {
    "ExecuteTime": {
     "end_time": "2025-02-13T03:52:52.059854Z",
     "start_time": "2025-02-13T03:52:52.056104Z"
    }
   },
   "cell_type": "code",
   "source": "rf = RandomForestClassifier(random_state=1)",
   "id": "c3361381c4053451",
   "outputs": [],
   "execution_count": 32
  },
  {
   "metadata": {
    "ExecuteTime": {
     "end_time": "2025-02-13T03:55:36.401721Z",
     "start_time": "2025-02-13T03:52:52.061852Z"
    }
   },
   "cell_type": "code",
   "source": "rf.fit(X_adasyn, y_adasyn)",
   "id": "311ab9a0603a60ba",
   "outputs": [
    {
     "data": {
      "text/plain": [
       "RandomForestClassifier(random_state=1)"
      ],
      "text/html": [
       "<style>#sk-container-id-1 {\n",
       "  /* Definition of color scheme common for light and dark mode */\n",
       "  --sklearn-color-text: black;\n",
       "  --sklearn-color-line: gray;\n",
       "  /* Definition of color scheme for unfitted estimators */\n",
       "  --sklearn-color-unfitted-level-0: #fff5e6;\n",
       "  --sklearn-color-unfitted-level-1: #f6e4d2;\n",
       "  --sklearn-color-unfitted-level-2: #ffe0b3;\n",
       "  --sklearn-color-unfitted-level-3: chocolate;\n",
       "  /* Definition of color scheme for fitted estimators */\n",
       "  --sklearn-color-fitted-level-0: #f0f8ff;\n",
       "  --sklearn-color-fitted-level-1: #d4ebff;\n",
       "  --sklearn-color-fitted-level-2: #b3dbfd;\n",
       "  --sklearn-color-fitted-level-3: cornflowerblue;\n",
       "\n",
       "  /* Specific color for light theme */\n",
       "  --sklearn-color-text-on-default-background: var(--sg-text-color, var(--theme-code-foreground, var(--jp-content-font-color1, black)));\n",
       "  --sklearn-color-background: var(--sg-background-color, var(--theme-background, var(--jp-layout-color0, white)));\n",
       "  --sklearn-color-border-box: var(--sg-text-color, var(--theme-code-foreground, var(--jp-content-font-color1, black)));\n",
       "  --sklearn-color-icon: #696969;\n",
       "\n",
       "  @media (prefers-color-scheme: dark) {\n",
       "    /* Redefinition of color scheme for dark theme */\n",
       "    --sklearn-color-text-on-default-background: var(--sg-text-color, var(--theme-code-foreground, var(--jp-content-font-color1, white)));\n",
       "    --sklearn-color-background: var(--sg-background-color, var(--theme-background, var(--jp-layout-color0, #111)));\n",
       "    --sklearn-color-border-box: var(--sg-text-color, var(--theme-code-foreground, var(--jp-content-font-color1, white)));\n",
       "    --sklearn-color-icon: #878787;\n",
       "  }\n",
       "}\n",
       "\n",
       "#sk-container-id-1 {\n",
       "  color: var(--sklearn-color-text);\n",
       "}\n",
       "\n",
       "#sk-container-id-1 pre {\n",
       "  padding: 0;\n",
       "}\n",
       "\n",
       "#sk-container-id-1 input.sk-hidden--visually {\n",
       "  border: 0;\n",
       "  clip: rect(1px 1px 1px 1px);\n",
       "  clip: rect(1px, 1px, 1px, 1px);\n",
       "  height: 1px;\n",
       "  margin: -1px;\n",
       "  overflow: hidden;\n",
       "  padding: 0;\n",
       "  position: absolute;\n",
       "  width: 1px;\n",
       "}\n",
       "\n",
       "#sk-container-id-1 div.sk-dashed-wrapped {\n",
       "  border: 1px dashed var(--sklearn-color-line);\n",
       "  margin: 0 0.4em 0.5em 0.4em;\n",
       "  box-sizing: border-box;\n",
       "  padding-bottom: 0.4em;\n",
       "  background-color: var(--sklearn-color-background);\n",
       "}\n",
       "\n",
       "#sk-container-id-1 div.sk-container {\n",
       "  /* jupyter's `normalize.less` sets `[hidden] { display: none; }`\n",
       "     but bootstrap.min.css set `[hidden] { display: none !important; }`\n",
       "     so we also need the `!important` here to be able to override the\n",
       "     default hidden behavior on the sphinx rendered scikit-learn.org.\n",
       "     See: https://github.com/scikit-learn/scikit-learn/issues/21755 */\n",
       "  display: inline-block !important;\n",
       "  position: relative;\n",
       "}\n",
       "\n",
       "#sk-container-id-1 div.sk-text-repr-fallback {\n",
       "  display: none;\n",
       "}\n",
       "\n",
       "div.sk-parallel-item,\n",
       "div.sk-serial,\n",
       "div.sk-item {\n",
       "  /* draw centered vertical line to link estimators */\n",
       "  background-image: linear-gradient(var(--sklearn-color-text-on-default-background), var(--sklearn-color-text-on-default-background));\n",
       "  background-size: 2px 100%;\n",
       "  background-repeat: no-repeat;\n",
       "  background-position: center center;\n",
       "}\n",
       "\n",
       "/* Parallel-specific style estimator block */\n",
       "\n",
       "#sk-container-id-1 div.sk-parallel-item::after {\n",
       "  content: \"\";\n",
       "  width: 100%;\n",
       "  border-bottom: 2px solid var(--sklearn-color-text-on-default-background);\n",
       "  flex-grow: 1;\n",
       "}\n",
       "\n",
       "#sk-container-id-1 div.sk-parallel {\n",
       "  display: flex;\n",
       "  align-items: stretch;\n",
       "  justify-content: center;\n",
       "  background-color: var(--sklearn-color-background);\n",
       "  position: relative;\n",
       "}\n",
       "\n",
       "#sk-container-id-1 div.sk-parallel-item {\n",
       "  display: flex;\n",
       "  flex-direction: column;\n",
       "}\n",
       "\n",
       "#sk-container-id-1 div.sk-parallel-item:first-child::after {\n",
       "  align-self: flex-end;\n",
       "  width: 50%;\n",
       "}\n",
       "\n",
       "#sk-container-id-1 div.sk-parallel-item:last-child::after {\n",
       "  align-self: flex-start;\n",
       "  width: 50%;\n",
       "}\n",
       "\n",
       "#sk-container-id-1 div.sk-parallel-item:only-child::after {\n",
       "  width: 0;\n",
       "}\n",
       "\n",
       "/* Serial-specific style estimator block */\n",
       "\n",
       "#sk-container-id-1 div.sk-serial {\n",
       "  display: flex;\n",
       "  flex-direction: column;\n",
       "  align-items: center;\n",
       "  background-color: var(--sklearn-color-background);\n",
       "  padding-right: 1em;\n",
       "  padding-left: 1em;\n",
       "}\n",
       "\n",
       "\n",
       "/* Toggleable style: style used for estimator/Pipeline/ColumnTransformer box that is\n",
       "clickable and can be expanded/collapsed.\n",
       "- Pipeline and ColumnTransformer use this feature and define the default style\n",
       "- Estimators will overwrite some part of the style using the `sk-estimator` class\n",
       "*/\n",
       "\n",
       "/* Pipeline and ColumnTransformer style (default) */\n",
       "\n",
       "#sk-container-id-1 div.sk-toggleable {\n",
       "  /* Default theme specific background. It is overwritten whether we have a\n",
       "  specific estimator or a Pipeline/ColumnTransformer */\n",
       "  background-color: var(--sklearn-color-background);\n",
       "}\n",
       "\n",
       "/* Toggleable label */\n",
       "#sk-container-id-1 label.sk-toggleable__label {\n",
       "  cursor: pointer;\n",
       "  display: block;\n",
       "  width: 100%;\n",
       "  margin-bottom: 0;\n",
       "  padding: 0.5em;\n",
       "  box-sizing: border-box;\n",
       "  text-align: center;\n",
       "}\n",
       "\n",
       "#sk-container-id-1 label.sk-toggleable__label-arrow:before {\n",
       "  /* Arrow on the left of the label */\n",
       "  content: \"▸\";\n",
       "  float: left;\n",
       "  margin-right: 0.25em;\n",
       "  color: var(--sklearn-color-icon);\n",
       "}\n",
       "\n",
       "#sk-container-id-1 label.sk-toggleable__label-arrow:hover:before {\n",
       "  color: var(--sklearn-color-text);\n",
       "}\n",
       "\n",
       "/* Toggleable content - dropdown */\n",
       "\n",
       "#sk-container-id-1 div.sk-toggleable__content {\n",
       "  max-height: 0;\n",
       "  max-width: 0;\n",
       "  overflow: hidden;\n",
       "  text-align: left;\n",
       "  /* unfitted */\n",
       "  background-color: var(--sklearn-color-unfitted-level-0);\n",
       "}\n",
       "\n",
       "#sk-container-id-1 div.sk-toggleable__content.fitted {\n",
       "  /* fitted */\n",
       "  background-color: var(--sklearn-color-fitted-level-0);\n",
       "}\n",
       "\n",
       "#sk-container-id-1 div.sk-toggleable__content pre {\n",
       "  margin: 0.2em;\n",
       "  border-radius: 0.25em;\n",
       "  color: var(--sklearn-color-text);\n",
       "  /* unfitted */\n",
       "  background-color: var(--sklearn-color-unfitted-level-0);\n",
       "}\n",
       "\n",
       "#sk-container-id-1 div.sk-toggleable__content.fitted pre {\n",
       "  /* unfitted */\n",
       "  background-color: var(--sklearn-color-fitted-level-0);\n",
       "}\n",
       "\n",
       "#sk-container-id-1 input.sk-toggleable__control:checked~div.sk-toggleable__content {\n",
       "  /* Expand drop-down */\n",
       "  max-height: 200px;\n",
       "  max-width: 100%;\n",
       "  overflow: auto;\n",
       "}\n",
       "\n",
       "#sk-container-id-1 input.sk-toggleable__control:checked~label.sk-toggleable__label-arrow:before {\n",
       "  content: \"▾\";\n",
       "}\n",
       "\n",
       "/* Pipeline/ColumnTransformer-specific style */\n",
       "\n",
       "#sk-container-id-1 div.sk-label input.sk-toggleable__control:checked~label.sk-toggleable__label {\n",
       "  color: var(--sklearn-color-text);\n",
       "  background-color: var(--sklearn-color-unfitted-level-2);\n",
       "}\n",
       "\n",
       "#sk-container-id-1 div.sk-label.fitted input.sk-toggleable__control:checked~label.sk-toggleable__label {\n",
       "  background-color: var(--sklearn-color-fitted-level-2);\n",
       "}\n",
       "\n",
       "/* Estimator-specific style */\n",
       "\n",
       "/* Colorize estimator box */\n",
       "#sk-container-id-1 div.sk-estimator input.sk-toggleable__control:checked~label.sk-toggleable__label {\n",
       "  /* unfitted */\n",
       "  background-color: var(--sklearn-color-unfitted-level-2);\n",
       "}\n",
       "\n",
       "#sk-container-id-1 div.sk-estimator.fitted input.sk-toggleable__control:checked~label.sk-toggleable__label {\n",
       "  /* fitted */\n",
       "  background-color: var(--sklearn-color-fitted-level-2);\n",
       "}\n",
       "\n",
       "#sk-container-id-1 div.sk-label label.sk-toggleable__label,\n",
       "#sk-container-id-1 div.sk-label label {\n",
       "  /* The background is the default theme color */\n",
       "  color: var(--sklearn-color-text-on-default-background);\n",
       "}\n",
       "\n",
       "/* On hover, darken the color of the background */\n",
       "#sk-container-id-1 div.sk-label:hover label.sk-toggleable__label {\n",
       "  color: var(--sklearn-color-text);\n",
       "  background-color: var(--sklearn-color-unfitted-level-2);\n",
       "}\n",
       "\n",
       "/* Label box, darken color on hover, fitted */\n",
       "#sk-container-id-1 div.sk-label.fitted:hover label.sk-toggleable__label.fitted {\n",
       "  color: var(--sklearn-color-text);\n",
       "  background-color: var(--sklearn-color-fitted-level-2);\n",
       "}\n",
       "\n",
       "/* Estimator label */\n",
       "\n",
       "#sk-container-id-1 div.sk-label label {\n",
       "  font-family: monospace;\n",
       "  font-weight: bold;\n",
       "  display: inline-block;\n",
       "  line-height: 1.2em;\n",
       "}\n",
       "\n",
       "#sk-container-id-1 div.sk-label-container {\n",
       "  text-align: center;\n",
       "}\n",
       "\n",
       "/* Estimator-specific */\n",
       "#sk-container-id-1 div.sk-estimator {\n",
       "  font-family: monospace;\n",
       "  border: 1px dotted var(--sklearn-color-border-box);\n",
       "  border-radius: 0.25em;\n",
       "  box-sizing: border-box;\n",
       "  margin-bottom: 0.5em;\n",
       "  /* unfitted */\n",
       "  background-color: var(--sklearn-color-unfitted-level-0);\n",
       "}\n",
       "\n",
       "#sk-container-id-1 div.sk-estimator.fitted {\n",
       "  /* fitted */\n",
       "  background-color: var(--sklearn-color-fitted-level-0);\n",
       "}\n",
       "\n",
       "/* on hover */\n",
       "#sk-container-id-1 div.sk-estimator:hover {\n",
       "  /* unfitted */\n",
       "  background-color: var(--sklearn-color-unfitted-level-2);\n",
       "}\n",
       "\n",
       "#sk-container-id-1 div.sk-estimator.fitted:hover {\n",
       "  /* fitted */\n",
       "  background-color: var(--sklearn-color-fitted-level-2);\n",
       "}\n",
       "\n",
       "/* Specification for estimator info (e.g. \"i\" and \"?\") */\n",
       "\n",
       "/* Common style for \"i\" and \"?\" */\n",
       "\n",
       ".sk-estimator-doc-link,\n",
       "a:link.sk-estimator-doc-link,\n",
       "a:visited.sk-estimator-doc-link {\n",
       "  float: right;\n",
       "  font-size: smaller;\n",
       "  line-height: 1em;\n",
       "  font-family: monospace;\n",
       "  background-color: var(--sklearn-color-background);\n",
       "  border-radius: 1em;\n",
       "  height: 1em;\n",
       "  width: 1em;\n",
       "  text-decoration: none !important;\n",
       "  margin-left: 1ex;\n",
       "  /* unfitted */\n",
       "  border: var(--sklearn-color-unfitted-level-1) 1pt solid;\n",
       "  color: var(--sklearn-color-unfitted-level-1);\n",
       "}\n",
       "\n",
       ".sk-estimator-doc-link.fitted,\n",
       "a:link.sk-estimator-doc-link.fitted,\n",
       "a:visited.sk-estimator-doc-link.fitted {\n",
       "  /* fitted */\n",
       "  border: var(--sklearn-color-fitted-level-1) 1pt solid;\n",
       "  color: var(--sklearn-color-fitted-level-1);\n",
       "}\n",
       "\n",
       "/* On hover */\n",
       "div.sk-estimator:hover .sk-estimator-doc-link:hover,\n",
       ".sk-estimator-doc-link:hover,\n",
       "div.sk-label-container:hover .sk-estimator-doc-link:hover,\n",
       ".sk-estimator-doc-link:hover {\n",
       "  /* unfitted */\n",
       "  background-color: var(--sklearn-color-unfitted-level-3);\n",
       "  color: var(--sklearn-color-background);\n",
       "  text-decoration: none;\n",
       "}\n",
       "\n",
       "div.sk-estimator.fitted:hover .sk-estimator-doc-link.fitted:hover,\n",
       ".sk-estimator-doc-link.fitted:hover,\n",
       "div.sk-label-container:hover .sk-estimator-doc-link.fitted:hover,\n",
       ".sk-estimator-doc-link.fitted:hover {\n",
       "  /* fitted */\n",
       "  background-color: var(--sklearn-color-fitted-level-3);\n",
       "  color: var(--sklearn-color-background);\n",
       "  text-decoration: none;\n",
       "}\n",
       "\n",
       "/* Span, style for the box shown on hovering the info icon */\n",
       ".sk-estimator-doc-link span {\n",
       "  display: none;\n",
       "  z-index: 9999;\n",
       "  position: relative;\n",
       "  font-weight: normal;\n",
       "  right: .2ex;\n",
       "  padding: .5ex;\n",
       "  margin: .5ex;\n",
       "  width: min-content;\n",
       "  min-width: 20ex;\n",
       "  max-width: 50ex;\n",
       "  color: var(--sklearn-color-text);\n",
       "  box-shadow: 2pt 2pt 4pt #999;\n",
       "  /* unfitted */\n",
       "  background: var(--sklearn-color-unfitted-level-0);\n",
       "  border: .5pt solid var(--sklearn-color-unfitted-level-3);\n",
       "}\n",
       "\n",
       ".sk-estimator-doc-link.fitted span {\n",
       "  /* fitted */\n",
       "  background: var(--sklearn-color-fitted-level-0);\n",
       "  border: var(--sklearn-color-fitted-level-3);\n",
       "}\n",
       "\n",
       ".sk-estimator-doc-link:hover span {\n",
       "  display: block;\n",
       "}\n",
       "\n",
       "/* \"?\"-specific style due to the `<a>` HTML tag */\n",
       "\n",
       "#sk-container-id-1 a.estimator_doc_link {\n",
       "  float: right;\n",
       "  font-size: 1rem;\n",
       "  line-height: 1em;\n",
       "  font-family: monospace;\n",
       "  background-color: var(--sklearn-color-background);\n",
       "  border-radius: 1rem;\n",
       "  height: 1rem;\n",
       "  width: 1rem;\n",
       "  text-decoration: none;\n",
       "  /* unfitted */\n",
       "  color: var(--sklearn-color-unfitted-level-1);\n",
       "  border: var(--sklearn-color-unfitted-level-1) 1pt solid;\n",
       "}\n",
       "\n",
       "#sk-container-id-1 a.estimator_doc_link.fitted {\n",
       "  /* fitted */\n",
       "  border: var(--sklearn-color-fitted-level-1) 1pt solid;\n",
       "  color: var(--sklearn-color-fitted-level-1);\n",
       "}\n",
       "\n",
       "/* On hover */\n",
       "#sk-container-id-1 a.estimator_doc_link:hover {\n",
       "  /* unfitted */\n",
       "  background-color: var(--sklearn-color-unfitted-level-3);\n",
       "  color: var(--sklearn-color-background);\n",
       "  text-decoration: none;\n",
       "}\n",
       "\n",
       "#sk-container-id-1 a.estimator_doc_link.fitted:hover {\n",
       "  /* fitted */\n",
       "  background-color: var(--sklearn-color-fitted-level-3);\n",
       "}\n",
       "</style><div id=\"sk-container-id-1\" class=\"sk-top-container\"><div class=\"sk-text-repr-fallback\"><pre>RandomForestClassifier(random_state=1)</pre><b>In a Jupyter environment, please rerun this cell to show the HTML representation or trust the notebook. <br />On GitHub, the HTML representation is unable to render, please try loading this page with nbviewer.org.</b></div><div class=\"sk-container\" hidden><div class=\"sk-item\"><div class=\"sk-estimator fitted sk-toggleable\"><input class=\"sk-toggleable__control sk-hidden--visually\" id=\"sk-estimator-id-1\" type=\"checkbox\" checked><label for=\"sk-estimator-id-1\" class=\"sk-toggleable__label fitted sk-toggleable__label-arrow fitted\">&nbsp;&nbsp;RandomForestClassifier<a class=\"sk-estimator-doc-link fitted\" rel=\"noreferrer\" target=\"_blank\" href=\"https://scikit-learn.org/1.5/modules/generated/sklearn.ensemble.RandomForestClassifier.html\">?<span>Documentation for RandomForestClassifier</span></a><span class=\"sk-estimator-doc-link fitted\">i<span>Fitted</span></span></label><div class=\"sk-toggleable__content fitted\"><pre>RandomForestClassifier(random_state=1)</pre></div> </div></div></div></div>"
      ]
     },
     "execution_count": 33,
     "metadata": {},
     "output_type": "execute_result"
    }
   ],
   "execution_count": 33
  },
  {
   "metadata": {
    "ExecuteTime": {
     "end_time": "2025-02-13T03:55:36.481711Z",
     "start_time": "2025-02-13T03:55:36.402715Z"
    }
   },
   "cell_type": "code",
   "source": "importances = rf.feature_importances_",
   "id": "f8dde455109a2027",
   "outputs": [],
   "execution_count": 34
  },
  {
   "metadata": {
    "ExecuteTime": {
     "end_time": "2025-02-13T03:55:36.486565Z",
     "start_time": "2025-02-13T03:55:36.482706Z"
    }
   },
   "cell_type": "code",
   "source": "importance = list(importances)",
   "id": "34a877e726948172",
   "outputs": [],
   "execution_count": 35
  },
  {
   "metadata": {
    "ExecuteTime": {
     "end_time": "2025-02-13T03:55:36.491052Z",
     "start_time": "2025-02-13T03:55:36.487557Z"
    }
   },
   "cell_type": "code",
   "source": "colum = list(X_adasyn.columns)",
   "id": "9ec42f73cb72bbf3",
   "outputs": [],
   "execution_count": 36
  },
  {
   "metadata": {
    "ExecuteTime": {
     "end_time": "2025-02-13T03:55:36.496735Z",
     "start_time": "2025-02-13T03:55:36.492047Z"
    }
   },
   "cell_type": "code",
   "source": "feature_importance = pd.DataFrame(zip(colum, importance), columns=['Feature', 'Importance']).sort_values('Importance')",
   "id": "9c9acfbf60653ce7",
   "outputs": [],
   "execution_count": 37
  },
  {
   "metadata": {
    "ExecuteTime": {
     "end_time": "2025-02-13T03:55:36.501967Z",
     "start_time": "2025-02-13T03:55:36.497739Z"
    }
   },
   "cell_type": "code",
   "source": "feature_importance = feature_importance.set_index('Feature')",
   "id": "fbd7cb1a05707139",
   "outputs": [],
   "execution_count": 38
  },
  {
   "metadata": {
    "ExecuteTime": {
     "end_time": "2025-02-13T03:55:36.773913Z",
     "start_time": "2025-02-13T03:55:36.503972Z"
    }
   },
   "cell_type": "code",
   "source": [
    "feature_importance.plot(kind='barh', figsize=(12,10))\n",
    "plt.title('Feature Importance', fontsize=16)\n",
    "plt.legend(bbox_to_anchor=(0.95, 0.1), fontsize=14)\n",
    "plt.ylabel('Features', fontsize=14)\n",
    "plt.xlabel('Importance', fontsize=14)\n",
    "plt.show()"
   ],
   "id": "94d75eafd4cf246e",
   "outputs": [
    {
     "data": {
      "text/plain": [
       "<Figure size 1200x1000 with 1 Axes>"
      ],
      "image/png": "[encoded data removed]"
     },
     "metadata": {},
     "output_type": "display_data"
    }
   ],
   "execution_count": 39
  },
  {
   "metadata": {
    "ExecuteTime": {
     "end_time": "2025-02-13T03:55:36.778527Z",
     "start_time": "2025-02-13T03:55:36.774909Z"
    }
   },
   "cell_type": "code",
   "source": "from sklearn.linear_model import Ridge",
   "id": "16ec439882d2e542",
   "outputs": [],
   "execution_count": 40
  },
  {
   "metadata": {
    "ExecuteTime": {
     "end_time": "2025-02-13T03:55:36.892067Z",
     "start_time": "2025-02-13T03:55:36.779530Z"
    }
   },
   "cell_type": "code",
   "source": "model = Ridge(alpha=1e-2).fit(x_train, y_train)",
   "id": "1dcbcfa5a7c2df67",
   "outputs": [
    {
     "name": "stderr",
     "output_type": "stream",
     "text": [
      "C:\\Users\\86131\\AppData\\Local\\Programs\\Python\\Python312\\Lib\\site-packages\\sklearn\\linear_model\\_ridge.py:216: LinAlgWarning: Ill-conditioned matrix (rcond=1.75878e-18): result may not be accurate.\n",
      "  return linalg.solve(A, Xy, assume_a=\"pos\", overwrite_a=True).T\n"
     ]
    }
   ],
   "execution_count": 41
  },
  {
   "metadata": {
    "ExecuteTime": {
     "end_time": "2025-02-13T03:55:36.924364Z",
     "start_time": "2025-02-13T03:55:36.892067Z"
    }
   },
   "cell_type": "code",
   "source": "model.score(x_val, y_val)",
   "id": "2f89454ffd63fa42",
   "outputs": [
    {
     "data": {
      "text/plain": [
       "0.5256554380984262"
      ]
     },
     "execution_count": 42,
     "metadata": {},
     "output_type": "execute_result"
    }
   ],
   "execution_count": 42
  },
  {
   "metadata": {
    "ExecuteTime": {
     "end_time": "2025-02-13T03:55:36.927701Z",
     "start_time": "2025-02-13T03:55:36.924364Z"
    }
   },
   "cell_type": "code",
   "source": "feature_names = x_train.columns",
   "id": "62364f46345ab8c6",
   "outputs": [],
   "execution_count": 43
  },
  {
   "metadata": {
    "ExecuteTime": {
     "end_time": "2025-02-13T03:55:58.040075Z",
     "start_time": "2025-02-13T03:55:36.928705Z"
    }
   },
   "cell_type": "code",
   "source": [
    "from sklearn.inspection import permutation_importance\n",
    "r = permutation_importance(model, x_val, y_val, n_repeats=30,random_state=0)\n",
    "\n",
    "permutation_importance_name = []\n",
    "permutation_importance_mean = []\n",
    "\n",
    "for i in r.importances_mean.argsort()[::-1]:\n",
    "    if r.importances_mean[i] - 2 * r.importances_std[i] > 0:\n",
    "        print(f\"{feature_names[i]:<8}\"\n",
    "        f\"  {r.importances_mean[i]:.3f}\"\n",
    "        f\" +/- {r.importances_std[i]:.3f}\")\n",
    "\n",
    "        permutation_importance_name.append(feature_names[i])\n",
    "        permutation_importance_mean.append(r.importances_mean[i]) "
   ],
   "id": "b6663bee3aa79d57",
   "outputs": [
    {
     "name": "stdout",
     "output_type": "stream",
     "text": [
      "Annual_Premium  6432298.117 +/- 15354.016\n",
      "monthly_premium  6432153.503 +/- 15356.208\n",
      "Previously_Insured  1.165 +/- 0.004\n",
      "Vehicle_Damage_Yes  1.148 +/- 0.003\n",
      "insured_with_no_damage  1.011 +/- 0.003\n",
      "new_damage_no_insurance  0.099 +/- 0.001\n",
      "not_insured_with_damage  0.062 +/- 0.001\n",
      "age_range  0.060 +/- 0.001\n",
      "vehicle_age_<_1_year  0.050 +/- 0.001\n",
      "Gender    0.014 +/- 0.000\n",
      "Age       0.010 +/- 0.000\n",
      "Policy_Sales_Channel  0.004 +/- 0.000\n",
      "Vehicle_Age  0.003 +/- 0.000\n",
      "Driving_License  0.000 +/- 0.000\n"
     ]
    }
   ],
   "execution_count": 44
  },
  {
   "metadata": {
    "ExecuteTime": {
     "end_time": "2025-02-13T03:56:02.641048Z",
     "start_time": "2025-02-13T03:55:58.040075Z"
    }
   },
   "cell_type": "code",
   "source": "!pip install Boruta==0.3",
   "id": "d40435a92e215e9d",
   "outputs": [
    {
     "name": "stdout",
     "output_type": "stream",
     "text": [
      "Collecting Boruta==0.3\n",
      "  Downloading Boruta-0.3-py3-none-any.whl.metadata (7.7 kB)\n",
      "Requirement already satisfied: numpy>=1.10.4 in c:\\users\\86131\\appdata\\local\\programs\\python\\python312\\lib\\site-packages (from Boruta==0.3) (1.26.4)\n",
      "Requirement already satisfied: scikit-learn>=0.17.1 in c:\\users\\86131\\appdata\\local\\programs\\python\\python312\\lib\\site-packages (from Boruta==0.3) (1.5.2)\n",
      "Requirement already satisfied: scipy>=0.17.0 in c:\\users\\86131\\appdata\\local\\programs\\python\\python312\\lib\\site-packages (from Boruta==0.3) (1.14.1)\n",
      "Requirement already satisfied: joblib>=1.2.0 in c:\\users\\86131\\appdata\\local\\programs\\python\\python312\\lib\\site-packages (from scikit-learn>=0.17.1->Boruta==0.3) (1.4.2)\n",
      "Requirement already satisfied: threadpoolctl>=3.1.0 in c:\\users\\86131\\appdata\\local\\programs\\python\\python312\\lib\\site-packages (from scikit-learn>=0.17.1->Boruta==0.3) (3.5.0)\n",
      "Downloading Boruta-0.3-py3-none-any.whl (56 kB)\n",
      "Installing collected packages: Boruta\n",
      "Successfully installed Boruta-0.3\n"
     ]
    },
    {
     "name": "stderr",
     "output_type": "stream",
     "text": [
      "\n",
      "[notice] A new release of pip is available: 24.2 -> 25.0.1\n",
      "[notice] To update, run: python.exe -m pip install --upgrade pip\n"
     ]
    }
   ],
   "execution_count": 45
  },
  {
   "metadata": {
    "ExecuteTime": {
     "end_time": "2025-02-13T03:56:02.646308Z",
     "start_time": "2025-02-13T03:56:02.641048Z"
    }
   },
   "cell_type": "code",
   "source": "x_train.columns",
   "id": "65777eaef1a59954",
   "outputs": [
    {
     "data": {
      "text/plain": [
       "Index(['id', 'Gender', 'Age', 'Driving_License', 'Region_Code',\n",
       "       'Previously_Insured', 'Vehicle_Age', 'Vehicle_Damage', 'Annual_Premium',\n",
       "       'Policy_Sales_Channel', 'Vintage', 'age_range', 'monthly_premium',\n",
       "       'percentage_total_premium', 'Vehicle_Damage_No', 'Vehicle_Damage_Yes',\n",
       "       'insured_with_no_damage', 'not_insured_with_damage',\n",
       "       'vehicle_age_<_1_year', 'new_damage_no_insurance'],\n",
       "      dtype='object')"
      ]
     },
     "execution_count": 46,
     "metadata": {},
     "output_type": "execute_result"
    }
   ],
   "execution_count": 46
  },
  {
   "metadata": {
    "ExecuteTime": {
     "end_time": "2025-02-13T03:59:04.400120Z",
     "start_time": "2025-02-13T03:59:04.383226Z"
    }
   },
   "cell_type": "code",
   "source": "x_train_selected = x_train[['id', 'Age', 'Region_Code', 'Previously_Insured', 'Policy_Sales_Channel', 'Vintage', 'age_range', 'Vehicle_Damage_No', 'Vehicle_Damage_Yes', 'insured_with_no_damage', 'not_insured_with_damage']]",
   "id": "98ce3a336524ebdd",
   "outputs": [],
   "execution_count": 47
  },
  {
   "metadata": {
    "ExecuteTime": {
     "end_time": "2025-02-13T03:59:04.413942Z",
     "start_time": "2025-02-13T03:59:04.401121Z"
    }
   },
   "cell_type": "code",
   "source": "x_val_selected = x_val[['id', 'Age', 'Region_Code', 'Previously_Insured', 'Policy_Sales_Channel', 'Vintage', 'age_range', 'Vehicle_Damage_No', 'Vehicle_Damage_Yes', 'insured_with_no_damage', 'not_insured_with_damage']]",
   "id": "c4878d4c9a1754d",
   "outputs": [],
   "execution_count": 48
  },
  {
   "metadata": {
    "ExecuteTime": {
     "end_time": "2025-02-13T03:59:04.419227Z",
     "start_time": "2025-02-13T03:59:04.414946Z"
    }
   },
   "cell_type": "code",
   "source": [
    "from sklearn.pipeline import make_pipeline\n",
    "from sklearn.linear_model import SGDClassifier\n",
    "from sklearn.preprocessing import StandardScaler\n",
    "from sklearn.metrics import accuracy_score\n",
    "from sklearn.model_selection import GridSearchCV\n",
    "from sklearn.model_selection import KFold\n",
    "from sklearn.metrics import confusion_matrix, classification_report\n",
    "from sklearn.metrics import f1_score, recall_score, precision_score"
   ],
   "id": "fe1e6646b3a850fc",
   "outputs": [],
   "execution_count": 49
  },
  {
   "metadata": {
    "ExecuteTime": {
     "end_time": "2025-02-13T03:59:04.424457Z",
     "start_time": "2025-02-13T03:59:04.420229Z"
    }
   },
   "cell_type": "code",
   "source": "from sklearn.tree import DecisionTreeClassifier",
   "id": "37eeddc793912af4",
   "outputs": [],
   "execution_count": 50
  },
  {
   "metadata": {
    "ExecuteTime": {
     "end_time": "2025-02-13T03:59:09.138631Z",
     "start_time": "2025-02-13T03:59:04.425460Z"
    }
   },
   "cell_type": "code",
   "source": [
    "dt = DecisionTreeClassifier()\n",
    "dt.fit(x_train_selected, y_train)\n",
    "y_pred_dt = dt.predict(x_val_selected)\n",
    "acc_dt = accuracy_score(y_val, y_pred_dt)\n",
    "f1_score_dt = f1_score(y_val, y_pred_dt)\n",
    "recall_score_dt = recall_score(y_val, y_pred_dt)\n",
    "precision_score_dt = precision_score(y_val, y_pred_dt)"
   ],
   "id": "368f05c842d114fd",
   "outputs": [],
   "execution_count": 51
  },
  {
   "metadata": {
    "ExecuteTime": {
     "end_time": "2025-02-13T03:59:09.144118Z",
     "start_time": "2025-02-13T03:59:09.139615Z"
    }
   },
   "cell_type": "code",
   "source": "print('The average accuracy is: {}'.format(acc_dt))",
   "id": "b129b14ce8bd26dd",
   "outputs": [
    {
     "name": "stdout",
     "output_type": "stream",
     "text": [
      "The average accuracy is: 0.8868759007681603\n"
     ]
    }
   ],
   "execution_count": 52
  },
  {
   "metadata": {
    "ExecuteTime": {
     "end_time": "2025-02-13T04:00:52.097263Z",
     "start_time": "2025-02-13T03:59:09.145113Z"
    }
   },
   "cell_type": "code",
   "source": [
    "rf = RandomForestClassifier()\n",
    "rf.fit(x_train_selected, y_train)\n",
    "y_pred_rf = rf.predict(x_val_selected)\n",
    "acc_rf = accuracy_score(y_val, y_pred_rf)\n",
    "f1_score_rf = f1_score(y_val, y_pred_rf)\n",
    "recall_score_rf = recall_score(y_val, y_pred_rf)\n",
    "precision_score_rf = precision_score(y_val, y_pred_rf)"
   ],
   "id": "e9c04c759a591f97",
   "outputs": [],
   "execution_count": 53
  },
  {
   "metadata": {
    "ExecuteTime": {
     "end_time": "2025-02-13T04:00:52.102008Z",
     "start_time": "2025-02-13T04:00:52.098259Z"
    }
   },
   "cell_type": "code",
   "source": "print('The average accuracy is: {}'.format(acc_rf))",
   "id": "7392a7c69e11d748",
   "outputs": [
    {
     "name": "stdout",
     "output_type": "stream",
     "text": [
      "The average accuracy is: 0.8960036847918142\n"
     ]
    }
   ],
   "execution_count": 54
  },
  {
   "metadata": {
    "ExecuteTime": {
     "end_time": "2025-02-13T04:00:52.144034Z",
     "start_time": "2025-02-13T04:00:52.104005Z"
    }
   },
   "cell_type": "code",
   "source": "import xgboost as xgb",
   "id": "3c11f9bf08bfded1",
   "outputs": [],
   "execution_count": 55
  },
  {
   "metadata": {
    "ExecuteTime": {
     "end_time": "2025-02-13T04:00:53.638759Z",
     "start_time": "2025-02-13T04:00:52.145037Z"
    }
   },
   "cell_type": "code",
   "source": [
    "xgb = xgb.XGBClassifier()\n",
    "xgb.fit(x_train_selected, y_train)\n",
    "y_pred_xgb = xgb.predict(x_val_selected)\n",
    "acc_xgb = accuracy_score(y_val, y_pred_xgb)\n",
    "f1_score_xgb = f1_score(y_val, y_pred_xgb)\n",
    "recall_score_xgb = recall_score(y_val, y_pred_xgb)\n",
    "precision_score_xgb = precision_score(y_val, y_pred_xgb)"
   ],
   "id": "6e644f88cd75a729",
   "outputs": [],
   "execution_count": 56
  },
  {
   "metadata": {
    "ExecuteTime": {
     "end_time": "2025-02-13T04:00:53.643956Z",
     "start_time": "2025-02-13T04:00:53.640267Z"
    }
   },
   "cell_type": "code",
   "source": "print('The average accuracy is: {}'.format(round(acc_xgb,3)))",
   "id": "da417c28184a839f",
   "outputs": [
    {
     "name": "stdout",
     "output_type": "stream",
     "text": [
      "The average accuracy is: 0.895\n"
     ]
    }
   ],
   "execution_count": 57
  },
  {
   "metadata": {
    "ExecuteTime": {
     "end_time": "2025-02-13T04:00:53.720907Z",
     "start_time": "2025-02-13T04:00:53.644945Z"
    }
   },
   "cell_type": "code",
   "source": "from lightgbm import LGBMClassifier",
   "id": "3335baeeb011cb5f",
   "outputs": [],
   "execution_count": 58
  },
  {
   "metadata": {
    "ExecuteTime": {
     "end_time": "2025-02-13T04:00:55.046539Z",
     "start_time": "2025-02-13T04:00:53.720907Z"
    }
   },
   "cell_type": "code",
   "source": [
    "lgbm = LGBMClassifier()\n",
    "lgbm.fit(x_train_selected, y_train)\n",
    "y_pred_lgbm = lgbm.predict(x_val_selected)\n",
    "acc_lgbm = accuracy_score(y_val, y_pred_lgbm)\n",
    "f1_score_lgbm = f1_score(y_val, y_pred_lgbm)\n",
    "recall_score_lgbm = recall_score(y_val, y_pred_lgbm)\n",
    "precision_score_lgbm = precision_score(y_val, y_pred_lgbm)"
   ],
   "id": "9a273f222b7ade79",
   "outputs": [
    {
     "name": "stdout",
     "output_type": "stream",
     "text": [
      "[LightGBM] [Info] Number of positive: 237272, number of negative: 233852\n",
      "[LightGBM] [Info] Auto-choosing row-wise multi-threading, the overhead of testing was 0.008057 seconds.\n",
      "You can set `force_row_wise=true` to remove the overhead.\n",
      "And if memory is not enough, you can set `force_col_wise=true`.\n",
      "[LightGBM] [Info] Total Bins 1098\n",
      "[LightGBM] [Info] Number of data points in the train set: 471124, number of used features: 11\n",
      "[LightGBM] [Info] [binary:BoostFromScore]: pavg=0.503630 -> initscore=0.014519\n",
      "[LightGBM] [Info] Start training from score 0.014519\n"
     ]
    }
   ],
   "execution_count": 59
  },
  {
   "metadata": {
    "ExecuteTime": {
     "end_time": "2025-02-13T04:00:55.051665Z",
     "start_time": "2025-02-13T04:00:55.047534Z"
    }
   },
   "cell_type": "code",
   "source": "print('The average accuracy is: {}'.format(round(acc_lgbm,3)))",
   "id": "1b7cd4b8bd22c449",
   "outputs": [
    {
     "name": "stdout",
     "output_type": "stream",
     "text": [
      "The average accuracy is: 0.902\n"
     ]
    }
   ],
   "execution_count": 60
  },
  {
   "metadata": {
    "ExecuteTime": {
     "end_time": "2025-02-13T04:00:55.056856Z",
     "start_time": "2025-02-13T04:00:55.052661Z"
    }
   },
   "cell_type": "code",
   "source": "from sklearn.neighbors import KNeighborsClassifier",
   "id": "2b99f1755924c6fc",
   "outputs": [],
   "execution_count": 61
  },
  {
   "metadata": {
    "ExecuteTime": {
     "end_time": "2025-02-13T04:01:06.125073Z",
     "start_time": "2025-02-13T04:00:55.057853Z"
    }
   },
   "cell_type": "code",
   "source": [
    "knn = KNeighborsClassifier() \n",
    "knn.fit(x_train_selected, y_train)  \n",
    "y_pred_knn = knn.predict(x_val_selected)  \n",
    "acc_knn = accuracy_score(y_val, y_pred_knn)\n",
    "f1_score_knn = f1_score(y_val, y_pred_knn)\n",
    "recall_score_knn = recall_score(y_val, y_pred_knn)\n",
    "precision_score_knn = precision_score(y_val, y_pred_knn)"
   ],
   "id": "a577c6ab5ce4ac0f",
   "outputs": [],
   "execution_count": 62
  },
  {
   "metadata": {
    "ExecuteTime": {
     "end_time": "2025-02-13T04:01:06.129894Z",
     "start_time": "2025-02-13T04:01:06.126068Z"
    }
   },
   "cell_type": "code",
   "source": "print('The average accuracy is: {}'.format(round(acc_knn,3)))",
   "id": "98df55aa2f4a3280",
   "outputs": [
    {
     "name": "stdout",
     "output_type": "stream",
     "text": [
      "The average accuracy is: 0.688\n"
     ]
    }
   ],
   "execution_count": 63
  },
  {
   "metadata": {
    "ExecuteTime": {
     "end_time": "2025-02-13T06:08:58.005736Z",
     "start_time": "2025-02-13T06:08:58.002225Z"
    }
   },
   "cell_type": "code",
   "source": "from sklearn.linear_model import LogisticRegression",
   "id": "2436bbbb03414259",
   "outputs": [],
   "execution_count": 77
  },
  {
   "metadata": {
    "ExecuteTime": {
     "end_time": "2025-02-13T06:12:29.333501Z",
     "start_time": "2025-02-13T06:12:27.066370Z"
    }
   },
   "cell_type": "code",
   "source": [
    "log = LogisticRegression()\n",
    "log.fit(x_train_selected, y_train)  \n",
    "y_pred_log = log.predict(x_val_selected)  \n",
    "acc_log = accuracy_score(y_val, y_pred_log)\n",
    "f1_score_log = f1_score(y_val, y_pred_log)\n",
    "recall_score_log = recall_score(y_val, y_pred_log)\n",
    "precision_score_log = precision_score(y_val, y_pred_log)"
   ],
   "id": "250ca52c49529c9e",
   "outputs": [
    {
     "name": "stderr",
     "output_type": "stream",
     "text": [
      "C:\\Users\\86131\\AppData\\Local\\Programs\\Python\\Python312\\Lib\\site-packages\\sklearn\\linear_model\\_logistic.py:469: ConvergenceWarning: lbfgs failed to converge (status=1):\n",
      "STOP: TOTAL NO. of ITERATIONS REACHED LIMIT.\n",
      "\n",
      "Increase the number of iterations (max_iter) or scale the data as shown in:\n",
      "    https://scikit-learn.org/stable/modules/preprocessing.html\n",
      "Please also refer to the documentation for alternative solver options:\n",
      "    https://scikit-learn.org/stable/modules/linear_model.html#logistic-regression\n",
      "  n_iter_i = _check_optimize_result(\n"
     ]
    }
   ],
   "execution_count": 78
  },
  {
   "metadata": {
    "ExecuteTime": {
     "end_time": "2025-02-13T04:01:08.435324Z",
     "start_time": "2025-02-13T04:01:08.430324Z"
    }
   },
   "cell_type": "code",
   "source": "print('The average accuracy is: {}'.format(round(acc_log,3)))",
   "id": "256d4242bfd92f6",
   "outputs": [
    {
     "name": "stdout",
     "output_type": "stream",
     "text": [
      "The average accuracy is: 0.611\n"
     ]
    }
   ],
   "execution_count": 66
  },
  {
   "metadata": {
    "ExecuteTime": {
     "end_time": "2025-02-13T05:30:20.691497Z",
     "start_time": "2025-02-13T05:30:20.687115Z"
    }
   },
   "cell_type": "code",
   "source": "from sklearn.ensemble import BaggingClassifier",
   "id": "5083c75e839f879b",
   "outputs": [],
   "execution_count": 67
  },
  {
   "metadata": {
    "ExecuteTime": {
     "end_time": "2025-02-13T05:34:07.284269Z",
     "start_time": "2025-02-13T05:33:38.739631Z"
    }
   },
   "cell_type": "code",
   "source": [
    "bag = BaggingClassifier()\n",
    "bag.fit(x_train_selected, y_train)  \n",
    "y_pred_bag = bag.predict(x_val_selected)  \n",
    "acc_bag = accuracy_score(y_val, y_pred_bag)\n",
    "f1_score_bag = f1_score(y_val, y_pred_bag)\n",
    "recall_score_bag = recall_score(y_val, y_pred_bag)\n",
    "precision_score_bag = precision_score(y_val, y_pred_bag)"
   ],
   "id": "76dc338b6aaa1b8",
   "outputs": [],
   "execution_count": 68
  },
  {
   "metadata": {
    "ExecuteTime": {
     "end_time": "2025-02-13T05:34:07.289609Z",
     "start_time": "2025-02-13T05:34:07.285265Z"
    }
   },
   "cell_type": "code",
   "source": "print('The average accuracy is: {}'.format(round(acc_bag,3)))",
   "id": "477cb2154e22fc4d",
   "outputs": [
    {
     "name": "stdout",
     "output_type": "stream",
     "text": [
      "The average accuracy is: 0.902\n"
     ]
    }
   ],
   "execution_count": 69
  },
  {
   "metadata": {
    "ExecuteTime": {
     "end_time": "2025-02-13T05:34:07.295216Z",
     "start_time": "2025-02-13T05:34:07.290614Z"
    }
   },
   "cell_type": "code",
   "source": "from sklearn.ensemble import GradientBoostingClassifier",
   "id": "7053469a757c28a2",
   "outputs": [],
   "execution_count": 70
  },
  {
   "metadata": {
    "ExecuteTime": {
     "end_time": "2025-02-13T05:35:28.888242Z",
     "start_time": "2025-02-13T05:34:07.296228Z"
    }
   },
   "cell_type": "code",
   "source": [
    "gbst = GradientBoostingClassifier()\n",
    "gbst.fit(x_train_selected, y_train)  \n",
    "y_pred_gbst = gbst.predict(x_val_selected)  \n",
    "acc_gbst = accuracy_score(y_val, y_pred_gbst)\n",
    "f1_score_gbst = f1_score(y_val, y_pred_gbst)\n",
    "recall_score_gbst = recall_score(y_val, y_pred_gbst)\n",
    "precision_score_gbst = precision_score(y_val, y_pred_gbst)"
   ],
   "id": "700ff8757e409be7",
   "outputs": [],
   "execution_count": 71
  },
  {
   "metadata": {
    "ExecuteTime": {
     "end_time": "2025-02-13T05:35:28.893441Z",
     "start_time": "2025-02-13T05:35:28.888770Z"
    }
   },
   "cell_type": "code",
   "source": "print('The average accuracy is: {}'.format(round(acc_gbst,3)))",
   "id": "eab5b3d44f497a64",
   "outputs": [
    {
     "name": "stdout",
     "output_type": "stream",
     "text": [
      "The average accuracy is: 0.877\n"
     ]
    }
   ],
   "execution_count": 72
  },
  {
   "metadata": {
    "ExecuteTime": {
     "end_time": "2025-02-13T05:35:28.904197Z",
     "start_time": "2025-02-13T05:35:28.894436Z"
    }
   },
   "cell_type": "code",
   "source": [
    "results = pd.DataFrame({\n",
    "    'Model': ['Decision tree', 'Random Forest', 'XGBoost', 'LGBM', 'K Nearest Neighbor', 'Logistic Regression', 'Bagging Classifier', 'Gradient Boosting Classifier'],\n",
    "    'Accuracy': [acc_dt, acc_rf, acc_xgb, acc_lgbm, acc_knn, acc_log, acc_bag, acc_gbst],\n",
    "    'Recall': [recall_score_dt, recall_score_rf, recall_score_xgb, recall_score_lgbm, recall_score_knn, recall_score_log, recall_score_bag, recall_score_gbst],\n",
    "    'Precision': [precision_score_dt, precision_score_rf, precision_score_xgb, precision_score_lgbm, precision_score_knn, precision_score_log, precision_score_bag, precision_score_gbst],    \n",
    "    'F1-score': [f1_score_dt, f1_score_rf, f1_score_xgb, f1_score_lgbm, f1_score_knn, f1_score_log, f1_score_bag, f1_score_gbst]})\n",
    "result = results.sort_values(by='F1-score', ascending=False)\n",
    "result = result.set_index('Model')\n",
    "display(result.head(10))"
   ],
   "id": "b3974acefc300a74",
   "outputs": [
    {
     "data": {
      "text/plain": [
       "                              Accuracy    Recall  Precision  F1-score\n",
       "Model                                                                \n",
       "LGBM                          0.902403  0.889122   0.914121  0.901448\n",
       "Bagging Classifier            0.902199  0.874344   0.926702  0.899762\n",
       "Random Forest                 0.896004  0.890168   0.901445  0.895771\n",
       "XGBoost                       0.895018  0.879582   0.908394  0.893756\n",
       "Decision tree                 0.886876  0.891983   0.883762  0.887853\n",
       "Gradient Boosting Classifier  0.876990  0.927154   0.843377  0.883283\n",
       "K Nearest Neighbor            0.688214  0.760674   0.665852  0.710112\n",
       "Logistic Regression           0.611413  0.620092   0.611394  0.615712"
      ],
      "text/html": [
       "<div>\n",
       "<style scoped>\n",
       "    .dataframe tbody tr th:only-of-type {\n",
       "        vertical-align: middle;\n",
       "    }\n",
       "\n",
       "    .dataframe tbody tr th {\n",
       "        vertical-align: top;\n",
       "    }\n",
       "\n",
       "    .dataframe thead th {\n",
       "        text-align: right;\n",
       "    }\n",
       "</style>\n",
       "<table border=\"1\" class=\"dataframe\">\n",
       "  <thead>\n",
       "    <tr style=\"text-align: right;\">\n",
       "      <th></th>\n",
       "      <th>Accuracy</th>\n",
       "      <th>Recall</th>\n",
       "      <th>Precision</th>\n",
       "      <th>F1-score</th>\n",
       "    </tr>\n",
       "    <tr>\n",
       "      <th>Model</th>\n",
       "      <th></th>\n",
       "      <th></th>\n",
       "      <th></th>\n",
       "      <th></th>\n",
       "    </tr>\n",
       "  </thead>\n",
       "  <tbody>\n",
       "    <tr>\n",
       "      <th>LGBM</th>\n",
       "      <td>0.902403</td>\n",
       "      <td>0.889122</td>\n",
       "      <td>0.914121</td>\n",
       "      <td>0.901448</td>\n",
       "    </tr>\n",
       "    <tr>\n",
       "      <th>Bagging Classifier</th>\n",
       "      <td>0.902199</td>\n",
       "      <td>0.874344</td>\n",
       "      <td>0.926702</td>\n",
       "      <td>0.899762</td>\n",
       "    </tr>\n",
       "    <tr>\n",
       "      <th>Random Forest</th>\n",
       "      <td>0.896004</td>\n",
       "      <td>0.890168</td>\n",
       "      <td>0.901445</td>\n",
       "      <td>0.895771</td>\n",
       "    </tr>\n",
       "    <tr>\n",
       "      <th>XGBoost</th>\n",
       "      <td>0.895018</td>\n",
       "      <td>0.879582</td>\n",
       "      <td>0.908394</td>\n",
       "      <td>0.893756</td>\n",
       "    </tr>\n",
       "    <tr>\n",
       "      <th>Decision tree</th>\n",
       "      <td>0.886876</td>\n",
       "      <td>0.891983</td>\n",
       "      <td>0.883762</td>\n",
       "      <td>0.887853</td>\n",
       "    </tr>\n",
       "    <tr>\n",
       "      <th>Gradient Boosting Classifier</th>\n",
       "      <td>0.876990</td>\n",
       "      <td>0.927154</td>\n",
       "      <td>0.843377</td>\n",
       "      <td>0.883283</td>\n",
       "    </tr>\n",
       "    <tr>\n",
       "      <th>K Nearest Neighbor</th>\n",
       "      <td>0.688214</td>\n",
       "      <td>0.760674</td>\n",
       "      <td>0.665852</td>\n",
       "      <td>0.710112</td>\n",
       "    </tr>\n",
       "    <tr>\n",
       "      <th>Logistic Regression</th>\n",
       "      <td>0.611413</td>\n",
       "      <td>0.620092</td>\n",
       "      <td>0.611394</td>\n",
       "      <td>0.615712</td>\n",
       "    </tr>\n",
       "  </tbody>\n",
       "</table>\n",
       "</div>"
      ]
     },
     "metadata": {},
     "output_type": "display_data"
    }
   ],
   "execution_count": 73
  },
  {
   "metadata": {
    "ExecuteTime": {
     "end_time": "2025-02-13T12:46:29.911788Z",
     "start_time": "2025-02-13T12:46:25.326110Z"
    }
   },
   "cell_type": "code",
   "source": [
    "param_grid = {\"n_estimators\": [200,300,400],\n",
    "              \"max_depth\": [4,5,6],\n",
    "             \"learning_rate\": [0.001, 0.01, 0.05]} \n",
    "xgb_grid_selected = GridSearchCV(xgb, cv=KFold(n_splits = 5, shuffle=True), param_grid=param_grid, scoring='accuracy')\n",
    "eval_set = [(x_train_selected, y_train), (x_val_selected, y_val)]\n",
    "xgb_grid_selected.fit(x_train_selected, y_train , eval_metric=[\"error\", \"logloss\"], eval_set=eval_set, verbose=True)\n",
    "best_xgb_selected = xgb_grid_selected.best_estimator_\n"
   ],
   "id": "60fd24cfefecfed",
   "outputs": [
    {
     "ename": "ValueError",
     "evalue": "\nAll the 135 fits failed.\nIt is very likely that your model is misconfigured.\nYou can try to debug the error by setting error_score='raise'.\n\nBelow are more details about the failures:\n--------------------------------------------------------------------------------\n135 fits failed with the following error:\nTraceback (most recent call last):\n  File \"C:\\Users\\86131\\AppData\\Local\\Programs\\Python\\Python312\\Lib\\site-packages\\sklearn\\model_selection\\_validation.py\", line 888, in _fit_and_score\n    estimator.fit(X_train, y_train, **fit_params)\n  File \"C:\\Users\\86131\\AppData\\Local\\Programs\\Python\\Python312\\Lib\\site-packages\\xgboost\\core.py\", line 726, in inner_f\n    return func(**kwargs)\n           ^^^^^^^^^^^^^^\nTypeError: XGBClassifier.fit() got an unexpected keyword argument 'eval_metric'\n",
     "output_type": "error",
     "traceback": [
      "\u001B[1;31m---------------------------------------------------------------------------\u001B[0m",
      "\u001B[1;31mValueError\u001B[0m                                Traceback (most recent call last)",
      "Cell \u001B[1;32mIn[82], line 6\u001B[0m\n\u001B[0;32m      4\u001B[0m xgb_grid_selected \u001B[38;5;241m=\u001B[39m GridSearchCV(xgb, cv\u001B[38;5;241m=\u001B[39mKFold(n_splits \u001B[38;5;241m=\u001B[39m \u001B[38;5;241m5\u001B[39m, shuffle\u001B[38;5;241m=\u001B[39m\u001B[38;5;28;01mTrue\u001B[39;00m), param_grid\u001B[38;5;241m=\u001B[39mparam_grid, scoring\u001B[38;5;241m=\u001B[39m\u001B[38;5;124m'\u001B[39m\u001B[38;5;124maccuracy\u001B[39m\u001B[38;5;124m'\u001B[39m)\n\u001B[0;32m      5\u001B[0m eval_set \u001B[38;5;241m=\u001B[39m [(x_train_selected, y_train), (x_val_selected, y_val)]\n\u001B[1;32m----> 6\u001B[0m \u001B[43mxgb_grid_selected\u001B[49m\u001B[38;5;241;43m.\u001B[39;49m\u001B[43mfit\u001B[49m\u001B[43m(\u001B[49m\u001B[43mx_train_selected\u001B[49m\u001B[43m,\u001B[49m\u001B[43m \u001B[49m\u001B[43my_train\u001B[49m\u001B[43m \u001B[49m\u001B[43m,\u001B[49m\u001B[43m \u001B[49m\u001B[43meval_metric\u001B[49m\u001B[38;5;241;43m=\u001B[39;49m\u001B[43m[\u001B[49m\u001B[38;5;124;43m\"\u001B[39;49m\u001B[38;5;124;43merror\u001B[39;49m\u001B[38;5;124;43m\"\u001B[39;49m\u001B[43m,\u001B[49m\u001B[43m \u001B[49m\u001B[38;5;124;43m\"\u001B[39;49m\u001B[38;5;124;43mlogloss\u001B[39;49m\u001B[38;5;124;43m\"\u001B[39;49m\u001B[43m]\u001B[49m\u001B[43m,\u001B[49m\u001B[43m \u001B[49m\u001B[43meval_set\u001B[49m\u001B[38;5;241;43m=\u001B[39;49m\u001B[43meval_set\u001B[49m\u001B[43m,\u001B[49m\u001B[43m \u001B[49m\u001B[43mverbose\u001B[49m\u001B[38;5;241;43m=\u001B[39;49m\u001B[38;5;28;43;01mTrue\u001B[39;49;00m\u001B[43m)\u001B[49m\n\u001B[0;32m      7\u001B[0m best_xgb_selected \u001B[38;5;241m=\u001B[39m xgb_grid_selected\u001B[38;5;241m.\u001B[39mbest_estimator_\n",
      "File \u001B[1;32m~\\AppData\\Local\\Programs\\Python\\Python312\\Lib\\site-packages\\sklearn\\base.py:1473\u001B[0m, in \u001B[0;36m_fit_context.<locals>.decorator.<locals>.wrapper\u001B[1;34m(estimator, *args, **kwargs)\u001B[0m\n\u001B[0;32m   1466\u001B[0m     estimator\u001B[38;5;241m.\u001B[39m_validate_params()\n\u001B[0;32m   1468\u001B[0m \u001B[38;5;28;01mwith\u001B[39;00m config_context(\n\u001B[0;32m   1469\u001B[0m     skip_parameter_validation\u001B[38;5;241m=\u001B[39m(\n\u001B[0;32m   1470\u001B[0m         prefer_skip_nested_validation \u001B[38;5;129;01mor\u001B[39;00m global_skip_validation\n\u001B[0;32m   1471\u001B[0m     )\n\u001B[0;32m   1472\u001B[0m ):\n\u001B[1;32m-> 1473\u001B[0m     \u001B[38;5;28;01mreturn\u001B[39;00m \u001B[43mfit_method\u001B[49m\u001B[43m(\u001B[49m\u001B[43mestimator\u001B[49m\u001B[43m,\u001B[49m\u001B[43m \u001B[49m\u001B[38;5;241;43m*\u001B[39;49m\u001B[43margs\u001B[49m\u001B[43m,\u001B[49m\u001B[43m \u001B[49m\u001B[38;5;241;43m*\u001B[39;49m\u001B[38;5;241;43m*\u001B[39;49m\u001B[43mkwargs\u001B[49m\u001B[43m)\u001B[49m\n",
      "File \u001B[1;32m~\\AppData\\Local\\Programs\\Python\\Python312\\Lib\\site-packages\\sklearn\\model_selection\\_search.py:1019\u001B[0m, in \u001B[0;36mBaseSearchCV.fit\u001B[1;34m(self, X, y, **params)\u001B[0m\n\u001B[0;32m   1013\u001B[0m     results \u001B[38;5;241m=\u001B[39m \u001B[38;5;28mself\u001B[39m\u001B[38;5;241m.\u001B[39m_format_results(\n\u001B[0;32m   1014\u001B[0m         all_candidate_params, n_splits, all_out, all_more_results\n\u001B[0;32m   1015\u001B[0m     )\n\u001B[0;32m   1017\u001B[0m     \u001B[38;5;28;01mreturn\u001B[39;00m results\n\u001B[1;32m-> 1019\u001B[0m \u001B[38;5;28;43mself\u001B[39;49m\u001B[38;5;241;43m.\u001B[39;49m\u001B[43m_run_search\u001B[49m\u001B[43m(\u001B[49m\u001B[43mevaluate_candidates\u001B[49m\u001B[43m)\u001B[49m\n\u001B[0;32m   1021\u001B[0m \u001B[38;5;66;03m# multimetric is determined here because in the case of a callable\u001B[39;00m\n\u001B[0;32m   1022\u001B[0m \u001B[38;5;66;03m# self.scoring the return type is only known after calling\u001B[39;00m\n\u001B[0;32m   1023\u001B[0m first_test_score \u001B[38;5;241m=\u001B[39m all_out[\u001B[38;5;241m0\u001B[39m][\u001B[38;5;124m\"\u001B[39m\u001B[38;5;124mtest_scores\u001B[39m\u001B[38;5;124m\"\u001B[39m]\n",
      "File \u001B[1;32m~\\AppData\\Local\\Programs\\Python\\Python312\\Lib\\site-packages\\sklearn\\model_selection\\_search.py:1573\u001B[0m, in \u001B[0;36mGridSearchCV._run_search\u001B[1;34m(self, evaluate_candidates)\u001B[0m\n\u001B[0;32m   1571\u001B[0m \u001B[38;5;28;01mdef\u001B[39;00m \u001B[38;5;21m_run_search\u001B[39m(\u001B[38;5;28mself\u001B[39m, evaluate_candidates):\n\u001B[0;32m   1572\u001B[0m \u001B[38;5;250m    \u001B[39m\u001B[38;5;124;03m\"\"\"Search all candidates in param_grid\"\"\"\u001B[39;00m\n\u001B[1;32m-> 1573\u001B[0m     \u001B[43mevaluate_candidates\u001B[49m\u001B[43m(\u001B[49m\u001B[43mParameterGrid\u001B[49m\u001B[43m(\u001B[49m\u001B[38;5;28;43mself\u001B[39;49m\u001B[38;5;241;43m.\u001B[39;49m\u001B[43mparam_grid\u001B[49m\u001B[43m)\u001B[49m\u001B[43m)\u001B[49m\n",
      "File \u001B[1;32m~\\AppData\\Local\\Programs\\Python\\Python312\\Lib\\site-packages\\sklearn\\model_selection\\_search.py:996\u001B[0m, in \u001B[0;36mBaseSearchCV.fit.<locals>.evaluate_candidates\u001B[1;34m(candidate_params, cv, more_results)\u001B[0m\n\u001B[0;32m    989\u001B[0m \u001B[38;5;28;01melif\u001B[39;00m \u001B[38;5;28mlen\u001B[39m(out) \u001B[38;5;241m!=\u001B[39m n_candidates \u001B[38;5;241m*\u001B[39m n_splits:\n\u001B[0;32m    990\u001B[0m     \u001B[38;5;28;01mraise\u001B[39;00m \u001B[38;5;167;01mValueError\u001B[39;00m(\n\u001B[0;32m    991\u001B[0m         \u001B[38;5;124m\"\u001B[39m\u001B[38;5;124mcv.split and cv.get_n_splits returned \u001B[39m\u001B[38;5;124m\"\u001B[39m\n\u001B[0;32m    992\u001B[0m         \u001B[38;5;124m\"\u001B[39m\u001B[38;5;124minconsistent results. Expected \u001B[39m\u001B[38;5;132;01m{}\u001B[39;00m\u001B[38;5;124m \u001B[39m\u001B[38;5;124m\"\u001B[39m\n\u001B[0;32m    993\u001B[0m         \u001B[38;5;124m\"\u001B[39m\u001B[38;5;124msplits, got \u001B[39m\u001B[38;5;132;01m{}\u001B[39;00m\u001B[38;5;124m\"\u001B[39m\u001B[38;5;241m.\u001B[39mformat(n_splits, \u001B[38;5;28mlen\u001B[39m(out) \u001B[38;5;241m/\u001B[39m\u001B[38;5;241m/\u001B[39m n_candidates)\n\u001B[0;32m    994\u001B[0m     )\n\u001B[1;32m--> 996\u001B[0m \u001B[43m_warn_or_raise_about_fit_failures\u001B[49m\u001B[43m(\u001B[49m\u001B[43mout\u001B[49m\u001B[43m,\u001B[49m\u001B[43m \u001B[49m\u001B[38;5;28;43mself\u001B[39;49m\u001B[38;5;241;43m.\u001B[39;49m\u001B[43merror_score\u001B[49m\u001B[43m)\u001B[49m\n\u001B[0;32m    998\u001B[0m \u001B[38;5;66;03m# For callable self.scoring, the return type is only know after\u001B[39;00m\n\u001B[0;32m    999\u001B[0m \u001B[38;5;66;03m# calling. If the return type is a dictionary, the error scores\u001B[39;00m\n\u001B[0;32m   1000\u001B[0m \u001B[38;5;66;03m# can now be inserted with the correct key. The type checking\u001B[39;00m\n\u001B[0;32m   1001\u001B[0m \u001B[38;5;66;03m# of out will be done in `_insert_error_scores`.\u001B[39;00m\n\u001B[0;32m   1002\u001B[0m \u001B[38;5;28;01mif\u001B[39;00m \u001B[38;5;28mcallable\u001B[39m(\u001B[38;5;28mself\u001B[39m\u001B[38;5;241m.\u001B[39mscoring):\n",
      "File \u001B[1;32m~\\AppData\\Local\\Programs\\Python\\Python312\\Lib\\site-packages\\sklearn\\model_selection\\_validation.py:529\u001B[0m, in \u001B[0;36m_warn_or_raise_about_fit_failures\u001B[1;34m(results, error_score)\u001B[0m\n\u001B[0;32m    522\u001B[0m \u001B[38;5;28;01mif\u001B[39;00m num_failed_fits \u001B[38;5;241m==\u001B[39m num_fits:\n\u001B[0;32m    523\u001B[0m     all_fits_failed_message \u001B[38;5;241m=\u001B[39m (\n\u001B[0;32m    524\u001B[0m         \u001B[38;5;124mf\u001B[39m\u001B[38;5;124m\"\u001B[39m\u001B[38;5;130;01m\\n\u001B[39;00m\u001B[38;5;124mAll the \u001B[39m\u001B[38;5;132;01m{\u001B[39;00mnum_fits\u001B[38;5;132;01m}\u001B[39;00m\u001B[38;5;124m fits failed.\u001B[39m\u001B[38;5;130;01m\\n\u001B[39;00m\u001B[38;5;124m\"\u001B[39m\n\u001B[0;32m    525\u001B[0m         \u001B[38;5;124m\"\u001B[39m\u001B[38;5;124mIt is very likely that your model is misconfigured.\u001B[39m\u001B[38;5;130;01m\\n\u001B[39;00m\u001B[38;5;124m\"\u001B[39m\n\u001B[0;32m    526\u001B[0m         \u001B[38;5;124m\"\u001B[39m\u001B[38;5;124mYou can try to debug the error by setting error_score=\u001B[39m\u001B[38;5;124m'\u001B[39m\u001B[38;5;124mraise\u001B[39m\u001B[38;5;124m'\u001B[39m\u001B[38;5;124m.\u001B[39m\u001B[38;5;130;01m\\n\u001B[39;00m\u001B[38;5;130;01m\\n\u001B[39;00m\u001B[38;5;124m\"\u001B[39m\n\u001B[0;32m    527\u001B[0m         \u001B[38;5;124mf\u001B[39m\u001B[38;5;124m\"\u001B[39m\u001B[38;5;124mBelow are more details about the failures:\u001B[39m\u001B[38;5;130;01m\\n\u001B[39;00m\u001B[38;5;132;01m{\u001B[39;00mfit_errors_summary\u001B[38;5;132;01m}\u001B[39;00m\u001B[38;5;124m\"\u001B[39m\n\u001B[0;32m    528\u001B[0m     )\n\u001B[1;32m--> 529\u001B[0m     \u001B[38;5;28;01mraise\u001B[39;00m \u001B[38;5;167;01mValueError\u001B[39;00m(all_fits_failed_message)\n\u001B[0;32m    531\u001B[0m \u001B[38;5;28;01melse\u001B[39;00m:\n\u001B[0;32m    532\u001B[0m     some_fits_failed_message \u001B[38;5;241m=\u001B[39m (\n\u001B[0;32m    533\u001B[0m         \u001B[38;5;124mf\u001B[39m\u001B[38;5;124m\"\u001B[39m\u001B[38;5;130;01m\\n\u001B[39;00m\u001B[38;5;132;01m{\u001B[39;00mnum_failed_fits\u001B[38;5;132;01m}\u001B[39;00m\u001B[38;5;124m fits failed out of a total of \u001B[39m\u001B[38;5;132;01m{\u001B[39;00mnum_fits\u001B[38;5;132;01m}\u001B[39;00m\u001B[38;5;124m.\u001B[39m\u001B[38;5;130;01m\\n\u001B[39;00m\u001B[38;5;124m\"\u001B[39m\n\u001B[0;32m    534\u001B[0m         \u001B[38;5;124m\"\u001B[39m\u001B[38;5;124mThe score on these train-test partitions for these parameters\u001B[39m\u001B[38;5;124m\"\u001B[39m\n\u001B[1;32m   (...)\u001B[0m\n\u001B[0;32m    538\u001B[0m         \u001B[38;5;124mf\u001B[39m\u001B[38;5;124m\"\u001B[39m\u001B[38;5;124mBelow are more details about the failures:\u001B[39m\u001B[38;5;130;01m\\n\u001B[39;00m\u001B[38;5;132;01m{\u001B[39;00mfit_errors_summary\u001B[38;5;132;01m}\u001B[39;00m\u001B[38;5;124m\"\u001B[39m\n\u001B[0;32m    539\u001B[0m     )\n",
      "\u001B[1;31mValueError\u001B[0m: \nAll the 135 fits failed.\nIt is very likely that your model is misconfigured.\nYou can try to debug the error by setting error_score='raise'.\n\nBelow are more details about the failures:\n--------------------------------------------------------------------------------\n135 fits failed with the following error:\nTraceback (most recent call last):\n  File \"C:\\Users\\86131\\AppData\\Local\\Programs\\Python\\Python312\\Lib\\site-packages\\sklearn\\model_selection\\_validation.py\", line 888, in _fit_and_score\n    estimator.fit(X_train, y_train, **fit_params)\n  File \"C:\\Users\\86131\\AppData\\Local\\Programs\\Python\\Python312\\Lib\\site-packages\\xgboost\\core.py\", line 726, in inner_f\n    return func(**kwargs)\n           ^^^^^^^^^^^^^^\nTypeError: XGBClassifier.fit() got an unexpected keyword argument 'eval_metric'\n"
     ]
    }
   ],
   "execution_count": 82
  },
  {
   "metadata": {},
   "cell_type": "code",
   "source": [
    "# retrieve performance metrics\n",
    "results = xgb_grid_selected.best_estimator_.evals_result()\n",
    "epochs = len(results['validation_0']['error'])\n",
    "x_axis = range(0, epochs)\n",
    "\n",
    "# plot log loss\n",
    "fig, ax = plt.subplots()\n",
    "ax.plot(x_axis, results['validation_0']['logloss'], label='Train')\n",
    "ax.plot(x_axis, results['validation_1']['logloss'], label='Test')\n",
    "ax.legend()\n",
    "plt.ylabel('Log Loss')\n",
    "plt.title('XGBoost Log Loss')\n",
    "plt.show()\n",
    "\n",
    "# plot classification error\n",
    "fig,ax = plt.subplots()\n",
    "ax.plot(x_axis, results['validation_0']['error'], label='Train')\n",
    "ax.plot(x_axis, results['validation_1']['error'], label='Test')\n",
    "ax.legend()\n",
    "plt.ylabel('Classification Error')\n",
    "plt.title('XGBoost Classification Error')\n",
    "plt.show()"
   ],
   "id": "8eed5026d30cd9ec",
   "outputs": [],
   "execution_count": null
  },
  {
   "metadata": {
    "ExecuteTime": {
     "end_time": "2025-02-13T12:39:15.648419Z",
     "start_time": "2025-02-13T12:39:15.636209Z"
    }
   },
   "cell_type": "code",
   "source": "y_pred_xgb_best_model = best_xgb_selected.predict(x_val_selected)",
   "id": "1fc11dd08cf7a29d",
   "outputs": [
    {
     "ename": "NameError",
     "evalue": "name 'best_xgb_selected' is not defined",
     "output_type": "error",
     "traceback": [
      "\u001B[1;31m---------------------------------------------------------------------------\u001B[0m",
      "\u001B[1;31mNameError\u001B[0m                                 Traceback (most recent call last)",
      "Cell \u001B[1;32mIn[80], line 1\u001B[0m\n\u001B[1;32m----> 1\u001B[0m y_pred_xgb_best_model \u001B[38;5;241m=\u001B[39m \u001B[43mbest_xgb_selected\u001B[49m\u001B[38;5;241m.\u001B[39mpredict(x_val_selected)\n",
      "\u001B[1;31mNameError\u001B[0m: name 'best_xgb_selected' is not defined"
     ]
    }
   ],
   "execution_count": 80
  },
  {
   "metadata": {},
   "cell_type": "code",
   "source": "print(classification_report(y_val, y_pred_xgb_best_model))",
   "id": "6bf2f0804bd1b630",
   "outputs": [],
   "execution_count": null
  },
  {
   "metadata": {},
   "cell_type": "markdown",
   "source": "",
   "id": "ca898d008d504e19"
  },
  {
   "metadata": {},
   "cell_type": "code",
   "outputs": [],
   "execution_count": null,
   "source": [
    "plot_confusion_matrix(best_xgb_selected, x_val_selected, y_val) \n",
    "plt.title('Confusion matrix')\n",
    "plt.yticks(ticks=[0,1], labels=['No accepted','Accepted'])\n",
    "plt.xticks(ticks=[0,1], labels=['No accepted','Accepted'])\n",
    "plt.grid(False)\n",
    "plt.show()"
   ],
   "id": "df64d7ea0f6971b7"
  },
  {
   "metadata": {},
   "cell_type": "code",
   "outputs": [],
   "execution_count": null,
   "source": [
    "from xgboost import XGBClassifier\n",
    "from sklearn.metrics import roc_auc_score\n",
    "from sklearn.metrics import roc_curve"
   ],
   "id": "b5116be36212fdf9"
  },
  {
   "metadata": {},
   "cell_type": "code",
   "outputs": [],
   "execution_count": null,
   "source": [
    "ns_probs = [0 for _ in range(len(y_val))]\n",
    "\n",
    "# fit a model\n",
    "SEED=1\n",
    "\n",
    "dt_clf = DecisionTreeClassifier(random_state=SEED)\n",
    "rf_clf = RandomForestClassifier(random_state=SEED)\n",
    "xgb_clf = XGBClassifier(random_state=SEED)\n",
    "lgbm_clf = LGBMClassifier(random_state=SEED)\n",
    "knn_clf = KNeighborsClassifier() \n",
    "log_clf = LogisticRegression(random_state=SEED)\n",
    "bag_clf = BaggingClassifier(random_state=SEED)\n",
    "gbst_clf = GradientBoostingClassifier(random_state=SEED)\n",
    "\n",
    "\n",
    "# trains the classifiers\n",
    "dt_clf.fit(x_train_selected, y_train)\n",
    "rf_clf.fit(x_train_selected, y_train)\n",
    "xgb_clf.fit(x_train_selected, y_train)\n",
    "lgbm_clf.fit(x_train_selected, y_train)\n",
    "knn_clf.fit(x_train_selected, y_train)\n",
    "log_clf.fit(x_train_selected, y_train)\n",
    "bag_clf.fit(x_train_selected, y_train)\n",
    "gbst_clf.fit(x_train_selected, y_train)\n",
    "\n",
    "\n",
    "# predict probabilities\n",
    "\n",
    "dt_probs = dt_clf.predict_proba(x_val_selected)\n",
    "rf_probs = rf_clf.predict_proba(x_val_selected)\n",
    "xgb_probs = xgb_clf.predict_proba(x_val_selected)\n",
    "lgbm_probs = lgbm_clf.predict_proba(x_val_selected)\n",
    "knn_probs = knn_clf.predict_proba(x_val_selected)\n",
    "log_probs = log_clf.predict_proba(x_val_selected)\n",
    "bag_probs = bag_clf.predict_proba(x_val_selected)\n",
    "gbst_probs = gbst_clf.predict_proba(x_val_selected)\n",
    "\n",
    "# keep probabilities for the positive outcome only\n",
    "\n",
    "dt_probs = dt_probs[:, 1]\n",
    "rf_probs = rf_probs[:, 1]\n",
    "xgb_probs = xgb_probs[:, 1]\n",
    "lgbm_probs = lgbm_probs[:, 1]\n",
    "knn_probs = knn_probs[:, 1]\n",
    "log_probs = log_probs[:, 1]\n",
    "bag_probs =  bag_probs[:, 1]\n",
    "gbst_probs =  gbst_probs[:, 1]\n",
    "\n",
    "# calculate scores\n",
    "\n",
    "ns_auc = roc_auc_score(y_val, ns_probs)\n",
    "dt_auc = roc_auc_score(y_val, dt_probs)\n",
    "rf_auc = roc_auc_score(y_val, rf_probs)\n",
    "xgb_auc = roc_auc_score(y_val, xgb_probs)\n",
    "lgbm_auc = roc_auc_score(y_val, lgbm_probs)\n",
    "knn_auc = roc_auc_score(y_val, knn_probs)\n",
    "log_auc = roc_auc_score(y_val, log_probs)\n",
    "bag_auc = roc_auc_score(y_val, bag_probs)\n",
    "gbst_auc = roc_auc_score(y_val, gbst_probs)\n",
    "\n",
    "\n",
    "# summarize scores\n",
    "print('No Skill: ROC AUC=%.3f' % (ns_auc))\n",
    "print('Decision Tree: ROC AUC=%.3f' % (dt_auc))\n",
    "print('Random Forest: ROC AUC=%.3f' % (rf_auc))\n",
    "print('XGBoost: ROC AUC=%.3f' % (xgb_auc))\n",
    "print('LGBM: ROC AUC=%.3f' % (lgbm_auc))\n",
    "print('KNN: ROC AUC=%.3f' % (knn_auc))\n",
    "print('Logistic Regression: ROC AUC=%.3f' % (log_auc))\n",
    "print('Bagging Classifier: ROC AUC=%.3f' % (bag_auc))\n",
    "print('Gradient Boosting Classifier: ROC AUC=%.3f' % (gbst_auc))\n",
    "\n",
    "\n",
    "# calculate roc curves\n",
    "ns_fpr, ns_tpr, _ = roc_curve(y_val, ns_probs)\n",
    "dt_fpr, dt_tpr, _ = roc_curve(y_val, dt_probs)\n",
    "rf_fpr, rf_tpr, _ = roc_curve(y_val, rf_probs)\n",
    "xgb_fpr, xgb_tpr, _ = roc_curve(y_val, xgb_probs)\n",
    "lgbm_fpr, lgbm_tpr, _ = roc_curve(y_val, lgbm_probs)\n",
    "knn_fpr, knn_tpr, _ = roc_curve(y_val, knn_probs)\n",
    "log_fpr, log_tpr, _ = roc_curve(y_val, log_probs)\n",
    "bag_fpr, bag_tpr, _ = roc_curve(y_val, bag_probs)\n",
    "gbst_fpr, gbst_tpr, _ = roc_curve(y_val, gbst_probs)\n",
    "\n",
    "\n",
    "\n",
    "# plot the roc curve for the model\n",
    "plt.figure(figsize=(16,8), dpi=100)\n",
    "\n",
    "plt.plot(ns_fpr, ns_tpr, linestyle='dashed', linewidth=2, color= 'black', label='No Skill (auc = %0.3f)' % ns_auc)\n",
    "plt.plot(dt_fpr, dt_tpr, linestyle='-', linewidth=2, color= 'red', label='Decision Tree (auc = %0.3f)' % dt_auc)\n",
    "plt.plot(rf_fpr, rf_tpr, linestyle='-', linewidth=2, color= 'blue', label='Random Forest (auc = %0.3f)' % rf_auc)\n",
    "plt.plot(xgb_fpr, xgb_tpr, marker='.', linewidth=2, color= 'green', label='XGBoost (auc = %0.3f)' % xgb_auc)\n",
    "plt.plot(lgbm_fpr, lgbm_tpr, linestyle='-', linewidth=2, color= 'yellow', label='LGBM (auc = %0.3f)' % lgbm_auc)\n",
    "plt.plot(knn_fpr, knn_tpr, linestyle='-', linewidth=2, color= 'orange', label='KNN (auc = %0.3f)' % knn_auc)\n",
    "plt.plot(log_fpr, log_tpr, linestyle='-', linewidth=2, color= 'magenta', label='Logistic Regression (auc = %0.3f)' % log_auc)\n",
    "plt.plot(bag_fpr, bag_tpr, linestyle='-', linewidth=2, color= 'gray', label='Bagging Classifier (auc = %0.3f)' % bag_auc)\n",
    "plt.plot(gbst_fpr, gbst_tpr, linestyle='-', linewidth=2, color= 'pink', label='Gradient Boosting Classifier (auc = %0.3f)' % gbst_auc)\n",
    "\n",
    "\n",
    "# axis labels\n",
    "plt.xlabel('False Positive Rate -->')\n",
    "plt.ylabel('True Positive Rate -->')\n",
    "plt.title(\"AUC-ROC Curve\")\n",
    "plt.legend()\n",
    "\n",
    "plt.show()"
   ],
   "id": "dceaef5637fd5e48"
  },
  {
   "metadata": {},
   "cell_type": "code",
   "outputs": [],
   "execution_count": null,
   "source": "import scikitplot as skplt",
   "id": "93d2092ecc622795"
  },
  {
   "metadata": {},
   "cell_type": "code",
   "outputs": [],
   "execution_count": null,
   "source": [
    "xgb_probs2 = best_xgb_selected.predict_proba(x_val_selected)\n",
    "\n",
    "skplt.metrics.plot_roc(y_val, xgb_probs2, figsize=(12,8))\n",
    "plt.xlim(-0.01,1.01)\n",
    "plt.ylim(-0.01,1.05)\n",
    "plt.show()"
   ],
   "id": "d0f2a571bf24cfd1"
  },
  {
   "metadata": {},
   "cell_type": "code",
   "outputs": [],
   "execution_count": null,
   "source": [
    "SEED=1\n",
    "\n",
    "dt_clf = DecisionTreeClassifier(random_state=SEED)\n",
    "rf_clf = RandomForestClassifier(random_state=SEED)\n",
    "xgb_clf = XGBClassifier(random_state=SEED)\n",
    "lgbm_clf = LGBMClassifier(random_state=SEED)\n",
    "knn_clf = KNeighborsClassifier() \n",
    "log_clf = LogisticRegression(random_state=SEED)\n",
    "bag_clf = BaggingClassifier(random_state=SEED)\n",
    "gbst_clf = GradientBoostingClassifier(random_state=SEED)\n",
    "\n",
    "\n",
    "# trains the classifiers\n",
    "dt_clf.fit(x_train_selected, y_train)\n",
    "rf_clf.fit(x_train_selected, y_train)\n",
    "xgb_clf.fit(x_train_selected, y_train)\n",
    "lgbm_clf.fit(x_train_selected, y_train)\n",
    "knn_clf.fit(x_train_selected, y_train)\n",
    "log_clf.fit(x_train_selected, y_train)\n",
    "bag_clf.fit(x_train_selected, y_train)\n",
    "gbst_clf.fit(x_train_selected, y_train)\n",
    "\n",
    "\n",
    "# predict probabilities\n",
    "\n",
    "dt_probs = dt_clf.predict_proba(x_val_selected)\n",
    "rf_probs = rf_clf.predict_proba(x_val_selected)\n",
    "xgb_probs = xgb_clf.predict_proba(x_val_selected)\n",
    "lgbm_probs = lgbm_clf.predict_proba(x_val_selected)\n",
    "knn_probs = knn_clf.predict_proba(x_val_selected)\n",
    "log_probs = log_clf.predict_proba(x_val_selected)\n",
    "bag_probs = bag_clf.predict_proba(x_val_selected)\n",
    "gbst_probs = gbst_clf.predict_proba(x_val_selected)\n",
    "\n",
    "\n",
    "probas_list = [dt_probs, rf_probs, xgb_probs, lgbm_probs, knn_probs, log_probs, bag_probs, gbst_probs]\n",
    "\n",
    "clf_names = ['Decision tree', 'Random Forest', 'XGBoost', 'LGBM', 'K Nearest Neighbor', 'Logistic Regression', 'Bagging Classifier', 'Gradient Boosting Classifier']\n",
    "\n",
    "skplt.metrics.plot_calibration_curve(y_val, probas_list, clf_names, figsize=(16,12))\n",
    "plt.show()"
   ],
   "id": "df582be6482b0554"
  },
  {
   "metadata": {},
   "cell_type": "code",
   "outputs": [],
   "execution_count": null,
   "source": "",
   "id": "17ff643fd1a5bc7f"
  }
 ],
 "metadata": {
  "kernelspec": {
   "display_name": "Python 3",
   "language": "python",
   "name": "python3"
  },
  "language_info": {
   "codemirror_mode": {
    "name": "ipython",
    "version": 2
   },
   "file_extension": ".py",
   "mimetype": "text/x-python",
   "name": "python",
   "nbconvert_exporter": "python",
   "pygments_lexer": "ipython2",
   "version": "2.7.6"
  }
 },
 "nbformat": 4,
 "nbformat_minor": 5
}
